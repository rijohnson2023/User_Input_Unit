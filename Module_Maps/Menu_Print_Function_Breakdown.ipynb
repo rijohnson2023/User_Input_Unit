{
 "cells": [
  {
   "cell_type": "markdown",
   "metadata": {},
   "source": [
    "# The data"
   ]
  },
  {
   "cell_type": "code",
   "execution_count": 13,
   "metadata": {},
   "outputs": [
    {
     "name": "stdout",
     "output_type": "stream",
     "text": [
      "['No Additional Inputs',\n",
      " 'nprocshared',\n",
      " 'oldraw=(__filename__,i8lab)',\n",
      " 'oldmatrix',\n",
      " 'lindaworkers',\n",
      " 'nprocshared=60',\n",
      " 'mem=60gb',\n",
      " 'chk=__filename__.chk',\n",
      " 'ssh=command',\n",
      " 'other: ']\n"
     ]
    }
   ],
   "source": [
    "import pprint as pp\n",
    "ui_options = ['No Additional Inputs', 'nprocshared', 'oldraw=(__filename__,i8lab)', 'oldmatrix', 'lindaworkers', 'nprocshared=60', 'mem=60gb', 'chk=__filename__.chk', 'ssh=command', 'other: '] \n",
    "pp.pprint(ui_options)\n"
   ]
  },
  {
   "cell_type": "markdown",
   "metadata": {},
   "source": [
    "# Iteration 1: Nested For-If loop using list comprehension"
   ]
  },
  {
   "cell_type": "code",
   "execution_count": 14,
   "metadata": {},
   "outputs": [
    {
     "name": "stdout",
     "output_type": "stream",
     "text": [
      "[1] No Additional Inputs                     [6] nprocshared=60                          \n",
      "[2] nprocshared                              [7] mem=60gb                                \n",
      "[3] oldraw=(__filename__,i8lab)              [8] chk=__filename__.chk                    \n",
      "[4] oldmatrix                                [9] ssh=command                             \n",
      "[5] lindaworkers                             [10] other:                                  \n"
     ]
    },
    {
     "data": {
      "text/plain": [
       "[None, None, None, None, None]"
      ]
     },
     "execution_count": 14,
     "metadata": {},
     "output_type": "execute_result"
    }
   ],
   "source": [
    "[print(\"[%d] %-40s [%d] %-40s\" % (index1, elem1, index2, elem2)) for index1, elem1 in enumerate(ui_options,1) if index1 <= int(len(ui_options)/2)\n",
    "    for index2, elem2 in enumerate(ui_options[int(len(ui_options)/2)-1+index1:],int(len(ui_options)/2)+index1) if index2 == int(len(ui_options)/2)+index1]"
   ]
  },
  {
   "cell_type": "markdown",
   "metadata": {},
   "source": [
    "# Iteration 2: Nested for-if loop without list comprehension"
   ]
  },
  {
   "cell_type": "code",
   "execution_count": 15,
   "metadata": {},
   "outputs": [
    {
     "name": "stdout",
     "output_type": "stream",
     "text": [
      "[1] No Additional Inputs                     [6] nprocshared=60                          \n",
      "[2] nprocshared                              [7] mem=60gb                                \n",
      "[3] oldraw=(__filename__,i8lab)              [8] chk=__filename__.chk                    \n",
      "[4] oldmatrix                                [9] ssh=command                             \n",
      "[5] lindaworkers                             [10] other:                                  \n"
     ]
    }
   ],
   "source": [
    "for index1, elem1 in enumerate(ui_options, 1) :\n",
    "    if index1 <= int(len(ui_options)/2) :\n",
    "        for index2, elem2 in enumerate(ui_options[int(len(ui_options)/2)-1+index1:], int(len(ui_options)/2)+index1) :\n",
    "            if index2 == int(len(ui_options)/2)+index1 :\n",
    "                print(\"[%d] %-40s [%d] %-40s\" % (index1, elem1, index2, elem2))"
   ]
  },
  {
   "cell_type": "markdown",
   "metadata": {},
   "source": [
    "# Iteration 3: For-Enumerate with no if and nested for-if loop\n",
    "\n",
    "**Note:** Two print functions"
   ]
  },
  {
   "cell_type": "code",
   "execution_count": 30,
   "metadata": {},
   "outputs": [
    {
     "name": "stdout",
     "output_type": "stream",
     "text": [
      "[0] 1) No Additional Inputs          [5] 6) nprocshared=60                \n",
      "[1] 2) nprocshared                   [6] 7) mem=60gb                      \n",
      "[2] 3) oldraw=(__filename__,i8lab)   [7] 8) chk=__filename__.chk          \n",
      "[3] 4) oldmatrix                     [8] 9) ssh=command                   \n",
      "[4] 5) lindaworkers                  [9] 10) other:                        \n"
     ]
    }
   ],
   "source": [
    "# Iterate over the first half of the list\n",
    "for index1, elem1 in enumerate(ui_options[:int(len(ui_options)/2)]) :\n",
    "    print(\"[%d] %d) %-30s\" % ((index1), index1+1, elem1), end = \"\")\n",
    "    # locate index2, find elem2 at index2\n",
    "    index2 = int(len(ui_options)/2 + index1)\n",
    "    elem2 = ui_options[index2]\n",
    "    print(\"[%d] %d) %-30s\" % (index2, index2+1, elem2))"
   ]
  },
  {
   "cell_type": "markdown",
   "metadata": {},
   "source": [
    "# Iteration 4: For-Enumerate with no if and nested for-if loop\n",
    "\n",
    "**Note:** One print function"
   ]
  },
  {
   "cell_type": "code",
   "execution_count": 31,
   "metadata": {},
   "outputs": [
    {
     "name": "stdout",
     "output_type": "stream",
     "text": [
      "[0] 1) No Additional Inputs           [5] 6) nprocshared=60                \n",
      "[1] 2) nprocshared                    [6] 7) mem=60gb                      \n",
      "[2] 3) oldraw=(__filename__,i8lab)    [7] 8) chk=__filename__.chk          \n",
      "[3] 4) oldmatrix                      [8] 9) ssh=command                   \n",
      "[4] 5) lindaworkers                   [9] 10) other:                        \n"
     ]
    }
   ],
   "source": [
    "for index1, elem1 in enumerate(ui_options[:int(len(ui_options)/2)]) :\n",
    "    # locate index2, find elem2 at index2\n",
    "    index2 = int(len(ui_options)/2 + index1)\n",
    "    elem2 = ui_options[index2]\n",
    "    print(\"[%d] %d) %-30s [%d] %d) %-30s\" % (index1, index1+1, elem1 ,index2, index2+1, elem2))"
   ]
  },
  {
   "cell_type": "markdown",
   "metadata": {},
   "source": [
    "# Iteration 5: For-Enumerate solution\n",
    "\n",
    "**Note:** Stick the objects for index2 and elem2 in the tuple being printed"
   ]
  },
  {
   "cell_type": "code",
   "execution_count": 32,
   "metadata": {},
   "outputs": [
    {
     "name": "stdout",
     "output_type": "stream",
     "text": [
      "[0] 1) No Additional Inputs           [5] 6) nprocshared=60                \n",
      "[1] 2) nprocshared                    [6] 7) mem=60gb                      \n",
      "[2] 3) oldraw=(__filename__,i8lab)    [7] 8) chk=__filename__.chk          \n",
      "[3] 4) oldmatrix                      [8] 9) ssh=command                   \n",
      "[4] 5) lindaworkers                   [9] 10) other:                        \n"
     ]
    }
   ],
   "source": [
    "for index1, elem1 in enumerate(ui_options[:int(len(ui_options)/2)]) :\n",
    "    print(\"[%d] %d) %-30s [%d] %d) %-30s\" % (index1, index1+1, elem1 ,int(len(ui_options)/2 + index1), int(len(ui_options)/2 + index1)+1, ui_options[int(len(ui_options)/2 + index1)]))"
   ]
  },
  {
   "cell_type": "markdown",
   "metadata": {},
   "source": [
    "# Iteration 6: For-Enumerate solution in list comprehension form\n",
    "\n",
    "**Note:** still prints index, menu option number, menu option"
   ]
  },
  {
   "cell_type": "code",
   "execution_count": 33,
   "metadata": {},
   "outputs": [
    {
     "name": "stdout",
     "output_type": "stream",
     "text": [
      "[0] 1) No Additional Inputs           [5] 6) nprocshared=60                \n",
      "[1] 2) nprocshared                    [6] 7) mem=60gb                      \n",
      "[2] 3) oldraw=(__filename__,i8lab)    [7] 8) chk=__filename__.chk          \n",
      "[3] 4) oldmatrix                      [8] 9) ssh=command                   \n",
      "[4] 5) lindaworkers                   [9] 10) other:                        \n"
     ]
    },
    {
     "data": {
      "text/plain": [
       "[None, None, None, None, None]"
      ]
     },
     "execution_count": 33,
     "metadata": {},
     "output_type": "execute_result"
    }
   ],
   "source": [
    "[print(\"[%d] %d) %-30s [%d] %d) %-30s\" % (index1, index1+1, elem1 ,int(len(ui_options)/2 + index1), int(len(ui_options)/2 + index1)+1, ui_options[int(len(ui_options)/2 + index1)]))\n",
    "    for index1, elem1 in enumerate(ui_options[:int(len(ui_options)/2)])]"
   ]
  },
  {
   "cell_type": "markdown",
   "metadata": {},
   "source": [
    "# Iteration 7: For-Enumerate solution in list comprehension form (Final draft)\n",
    "\n",
    "**Note:** prints menu option number, menu option\n",
    "\n",
    "### Benefits: \n",
    "1. The data stored in the list is in the form ready to be added to the header\n",
    "2. Its two lines\n",
    "3. It can work with any size list\n",
    "4. No external library required\n",
    "\n",
    "### Cons:\n",
    "1. It might be hard to read\n",
    "2. The logic might not be intuitive"
   ]
  },
  {
   "cell_type": "code",
   "execution_count": 34,
   "metadata": {},
   "outputs": [
    {
     "name": "stdout",
     "output_type": "stream",
     "text": [
      "1) No Additional Inputs           6) nprocshared=60                \n",
      "2) nprocshared                    7) mem=60gb                      \n",
      "3) oldraw=(__filename__,i8lab)    8) chk=__filename__.chk          \n",
      "4) oldmatrix                      9) ssh=command                   \n",
      "5) lindaworkers                   10) other:                        \n"
     ]
    },
    {
     "data": {
      "text/plain": [
       "[None, None, None, None, None]"
      ]
     },
     "execution_count": 34,
     "metadata": {},
     "output_type": "execute_result"
    }
   ],
   "source": [
    "[print(\"%d) %-30s %d) %-30s\" % (index1+1, elem1, int(len(ui_options)/2 + index1)+1, ui_options[int(len(ui_options)/2 + index1)]))\n",
    "    for index1, elem1 in enumerate(ui_options[:int(len(ui_options)/2)])]"
   ]
  }
 ],
 "metadata": {
  "interpreter": {
   "hash": "219f28c729eda709583e1ab80762c396fbb24857f282d49252dc64048c611cb8"
  },
  "kernelspec": {
   "display_name": "Python 3.9.12 ('MOD')",
   "language": "python",
   "name": "python3"
  },
  "language_info": {
   "codemirror_mode": {
    "name": "ipython",
    "version": 3
   },
   "file_extension": ".py",
   "mimetype": "text/x-python",
   "name": "python",
   "nbconvert_exporter": "python",
   "pygments_lexer": "ipython3",
   "version": "3.9.12"
  },
  "orig_nbformat": 4
 },
 "nbformat": 4,
 "nbformat_minor": 2
}
