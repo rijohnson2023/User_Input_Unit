{
 "cells": [
  {
   "cell_type": "markdown",
   "metadata": {},
   "source": [
    "# Python: Sort a dictionary by value in ascending or descending order\n",
    "\n",
    "link: https://thispointer.com/sort-a-dictionary-by-value-in-python-in-descending-ascending-order/"
   ]
  },
  {
   "cell_type": "code",
   "execution_count": 1,
   "metadata": {},
   "outputs": [],
   "source": [
    "word_dict = {\n",
    "    'this': 11,\n",
    "    'at': 9,\n",
    "    'here': 5,\n",
    "    'why': 12,\n",
    "    'is': 2,\n",
    "}"
   ]
  },
  {
   "cell_type": "markdown",
   "metadata": {},
   "source": [
    "- We want to sort this dictionary based on its values.\n",
    "- It will look like `{'is': 2, 'here': 5, 'at': 9, 'this': 11, 'why': 12}`\n",
    "- We'll use the sorted() function"
   ]
  },
  {
   "cell_type": "markdown",
   "metadata": {},
   "source": [
    "## Overview of the sorted() function in python\n",
    "\n",
    "    sorted(iterable, key=key, reverse=reverse)\n",
    "\n",
    "- Accepts an iterable sequence as the first argument\n",
    "- Returns a sorted list of items in that sequence *Like a list of tuples, like our dict_items object*\n",
    "- By default, it uses the < operator to compare elements in the sequence\n",
    "- if a key arguement (a call-back function) is provided, then it uses that to compare the items in the sequence while sorting\n",
    "- The default value of the reverse argument is True, therefore it sorts the items in ascending order by default\n",
    "- To sort them in descending order, provide the reverse arguement as False\n",
    "\n",
    "A dictionary in python is an iterable sequence of key-value pairs.\n",
    "\n",
    "To sort a dictionary, we can use the sorted function."
   ]
  },
  {
   "cell_type": "markdown",
   "metadata": {},
   "source": [
    "## Sorting a dictionary by its value using sorted() & lambda function in Python\n",
    "\n",
    "- If we pass the dictionary to the sorted() function, without any other arguement, the function will sort the key-value pairs in the dictionary by comparing them using the < operator"
   ]
  },
  {
   "cell_type": "code",
   "execution_count": 2,
   "metadata": {},
   "outputs": [
    {
     "name": "stdout",
     "output_type": "stream",
     "text": [
      "Origional :  dict_items([('this', 11), ('at', 9), ('here', 5), ('why', 12), ('is', 2)])\n",
      "Sorted :  ['at', 'here', 'is', 'this', 'why']\n",
      "Sorted.items() :  [('at', 9), ('here', 5), ('is', 2), ('this', 11), ('why', 12)]\n",
      "Sorted.keys() :  ['at', 'here', 'is', 'this', 'why']\n",
      "Sorted.values() :  [2, 5, 9, 11, 12]\n"
     ]
    }
   ],
   "source": [
    "print('Origional : ', word_dict.items())\n",
    "print('Sorted : ', sorted(word_dict))\n",
    "print('Sorted.items() : ', sorted(word_dict.items()))\n",
    "print('Sorted.keys() : ', sorted(word_dict.keys()))\n",
    "print('Sorted.values() : ', sorted(word_dict.values()))"
   ]
  },
  {
   "cell_type": "code",
   "execution_count": 3,
   "metadata": {},
   "outputs": [
    {
     "name": "stdout",
     "output_type": "stream",
     "text": [
      "Sorted Dictionary, Descending :  {'why': 12, 'this': 11, 'at': 9, 'here': 5, 'is': 2}\n",
      "Sorted Dictionary, Ascending :  {'is': 2, 'here': 5, 'at': 9, 'this': 11, 'why': 12}\n"
     ]
    }
   ],
   "source": [
    "# Sort dictionary by value in descending order using lambda function\n",
    "sorted_dict = dict(sorted(word_dict.items(), key=lambda elem: elem[1], reverse=True))\n",
    "print('Sorted Dictionary, Descending : ', sorted_dict)\n",
    "\n",
    "# Sort the dictionary by value in ascending order using lambda function\n",
    "sorted_dict = dict(sorted(word_dict.items(), key=lambda elem: elem[1], reverse=False))\n",
    "print('Sorted Dictionary, Ascending : ', sorted_dict)"
   ]
  },
  {
   "cell_type": "markdown",
   "metadata": {},
   "source": [
    "## But! How did it work?\n",
    "\n",
    "- The sorted function, sorted(), compared the key-value pairs by using a comparator passed as a key argument\n",
    "- The comparator passed was the lambda function\n",
    "- The lambda function accepts a key-value pair as an arguement and returns the value field from that pair\n",
    "- So, to sort the items in the dictionary, sorted() passed each key-value pair to the lambda function, and used the returned value to compare the items"
   ]
  },
  {
   "cell_type": "markdown",
   "metadata": {},
   "source": [
    "## Sort the dictionary by value using sorted() & itemgetter in python\n",
    "\n",
    "> Python's operator module provides an itemgetter, whose object fethces the given item from its operands.\n",
    "> In English:\n",
    "- itemgetter(2)(r), returns r[2]\n",
    "- itemgetter(1)(r), returns r[1]\n",
    "\n",
    "Key Take-Away\n",
    "- We can fetch the value field from each key-value item of the dictionary while sorting"
   ]
  },
  {
   "cell_type": "code",
   "execution_count": 4,
   "metadata": {},
   "outputs": [
    {
     "name": "stdout",
     "output_type": "stream",
     "text": [
      "Sorted Dictionary, Descending :  {'why': 12, 'this': 11, 'at': 9, 'here': 5, 'is': 2}\n",
      "Sorted Dictionary, Ascending :  {'is': 2, 'here': 5, 'at': 9, 'this': 11, 'why': 12}\n"
     ]
    }
   ],
   "source": [
    "import operator\n",
    "\n",
    "# Sort Dictionary by value using its itemgetter\n",
    "sorted_dict = dict(sorted(word_dict.items(), key=operator.itemgetter(1), reverse = True))\n",
    "print('Sorted Dictionary, Descending : ', sorted_dict)\n",
    "\n",
    "# Sort Dictionary by value using its itemgetter\n",
    "sorted_dict = dict(sorted(word_dict.items(), key=operator.itemgetter(1), reverse = False))\n",
    "print('Sorted Dictionary, Ascending : ', sorted_dict)"
   ]
  },
  {
   "cell_type": "code",
   "execution_count": 4,
   "metadata": {},
   "outputs": [],
   "source": []
  },
  {
   "cell_type": "code",
   "execution_count": 9,
   "metadata": {},
   "outputs": [
    {
     "name": "stdout",
     "output_type": "stream",
     "text": [
      "{'why': 12, 'this': 11, 'at': 9, 'here': 5, 'is': 2, 'were': 14, 'Boo Ya Baby': 20, \"Riley's coding skills\": 60, \"Curtis's Python Skills\": 100, \"Dr. Patterson's skills\": 100}\n",
      "{\"Curtis's Python Skills\": 100, \"Dr. Patterson's skills\": 100, \"Riley's coding skills\": 60, 'Boo Ya Baby': 20}\n",
      "dict_keys([\"Curtis's Python Skills\", \"Dr. Patterson's skills\", \"Riley's coding skills\", 'Boo Ya Baby'])\n"
     ]
    }
   ],
   "source": [
    "import random\n",
    "\n",
    "def findKthLargest(nums: list[int], k: int) -> int:\n",
    "    \"\"\"\n",
    "    Quick Select: Returns the value kth largest value in an unsorted array\n",
    "    \"\"\"\n",
    "    # choosing a random number in the origional array to begin sorting the data into 3 arrays\n",
    "    pivot = random.choice(nums)\n",
    "    # Left right and mid are all arrays\n",
    "    left = [x for x in nums if x > pivot]\n",
    "    mid = [x for x in nums if x == pivot]\n",
    "    right = [x for x in nums if x < pivot]\n",
    "\n",
    "    # Counting the number of elements in the left and mid array\n",
    "    L,M = len(left), len(mid)\n",
    "\n",
    "    if k <= L:   # if k, the kth largest int, is less than the length of the left array, then K is in the left array \n",
    "        return findKthLargest(left,k)\n",
    "    elif k > (L+M): # if k, the kth largest int is greater than the length of the left and middle array, then k must be in the right array\n",
    "        return findKthLargest(right, k-(L+M))\n",
    "    else: # if K is not in the left or right array, then it in the middle array, and the middle array only contains the pivot number\n",
    "        return mid[0]\n",
    "\n",
    "def kLargestElems(data: dict[str:int], k: int,srt: bool=True) -> dict :\n",
    "    \"\"\"\n",
    "    Return a filtered dictionary that keeps the elements whose values are greater than the value of the kth element.\n",
    "    \"\"\"\n",
    "    # Sort the dictionary in descending order\n",
    "    sorted_dict = dict(sorted(data.items(),key=lambda elem: elem[1],reverse=True))\n",
    "    # Identify the fourth highest value in the dict\n",
    "    value = findKthLargest(list(data.values()),4)\n",
    "    # Create a new dict by filter the arg dict for the top k elements based on their value\n",
    "    newDict = dict(filter(lambda elem: elem[1] >= value,sorted_dict.items()))\n",
    "    return newDict\n",
    "\n",
    "Example = {'why': 12, 'this': 11, 'at': 9, 'here': 5, 'is': 2, 'were' :14, 'Boo Ya Baby': 20, \"Riley's coding skills\": 50 +10, \"Curtis's Python Skills\": 100, \"Dr. Patterson's skills\" : 100}\n",
    "\n",
    "# If the value is the amount of times a user uses that keyword for the program, I want the 5 most used keywords\n",
    "k = 5\n",
    "print(kLargestElems(Example,k))\n",
    "print(kLargestElems(Example,k).keys())"
   ]
  }
 ],
 "metadata": {
  "interpreter": {
   "hash": "219f28c729eda709583e1ab80762c396fbb24857f282d49252dc64048c611cb8"
  },
  "kernelspec": {
   "display_name": "Python 3.9.12 ('MOD')",
   "language": "python",
   "name": "python3"
  },
  "language_info": {
   "codemirror_mode": {
    "name": "ipython",
    "version": 3
   },
   "file_extension": ".py",
   "mimetype": "text/x-python",
   "name": "python",
   "nbconvert_exporter": "python",
   "pygments_lexer": "ipython3",
   "version": "3.9.12"
  },
  "orig_nbformat": 4
 },
 "nbformat": 4,
 "nbformat_minor": 2
}
