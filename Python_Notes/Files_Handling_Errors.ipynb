{
 "cells": [
  {
   "cell_type": "markdown",
   "metadata": {},
   "source": [
    "# How to remove a file if it exists and handle errors\n",
    "\n",
    "Removing a file with os.remove()\n",
    "> Syntax: os.remove(file_path)\n",
    "> The file path can be a relative to the current working directory or an absolute path"
   ]
  },
  {
   "cell_type": "code",
   "execution_count": 1,
   "metadata": {},
   "outputs": [
    {
     "name": "stdout",
     "output_type": "stream",
     "text": [
      "Destination Path:\n",
      "  /Users/Riley/Documents/Research/User_Input_Module/SampleDir\n"
     ]
    }
   ],
   "source": [
    "import os\n",
    "\n",
    "def create_sample_dir(dir_name) :\n",
    "    # Locate current working directory\n",
    "    cwd_list = os.getcwd().split(\"/\")\n",
    "\n",
    "    # Remove \"Python notes\" from the cwd_list\n",
    "    wd1 = cwd_list[:len(cwd_list)-1]\n",
    "\n",
    "    # Create directory path\n",
    "    dir_path = \"/\".join(wd1) + \"/\" + dir_name\n",
    "\n",
    "    # if directory doesn't exist, create directory\n",
    "    if not os.path.isdir(dir_path):\n",
    "        os.mkdir(dir_path)\n",
    "        print(\"Destination Path Created:\\n  %s\" % dir_path)\n",
    "    else:\n",
    "        print(\"Destination Path:\\n  %s\" % dir_path)\n",
    "    return dir_path\n",
    "\n",
    "dir_path = create_sample_dir(dir_name=\"SampleDir\")"
   ]
  },
  {
   "cell_type": "code",
   "execution_count": 2,
   "metadata": {},
   "outputs": [
    {
     "name": "stdout",
     "output_type": "stream",
     "text": [
      "File created at path:\n",
      "  /Users/Riley/Documents/Research/User_Input_Module/SampleDir/sample_file.txt\n"
     ]
    }
   ],
   "source": [
    "def create_sample_file(file_name) :\n",
    "    # Create a file in the SampleDirectory\n",
    "    file_path = dir_path + \"/\" + file_name\n",
    "\n",
    "    # If the file doen't exist in the sample directory, then create it\n",
    "    if not os.path.isfile(file_path) :\n",
    "        with open(file_path, \"w\") as file :\n",
    "            file.write(\"Now we have a sample file.\\nWith some sample contents.\\nIn a sample directory.\\nWhat fun. . . \")\n",
    "        print(\"File created at path:\\n  %s\" % file_path)\n",
    "    else :\n",
    "        print(\"File exists at path:\\n  %s\" % file_path)\n",
    "    return file_name, file_path\n",
    "\n",
    "file_name, file_path = create_sample_file(file_name = \"sample_file.txt\")"
   ]
  },
  {
   "cell_type": "markdown",
   "metadata": {},
   "source": [
    "# But now, because of my fickle nature, I want to remove the file\n",
    "\n",
    "> os.remove() accepts the file path as an arguement and deletes the file at that path"
   ]
  },
  {
   "cell_type": "code",
   "execution_count": 3,
   "metadata": {},
   "outputs": [
    {
     "name": "stdout",
     "output_type": "stream",
     "text": [
      "The file, sample_file.txt, was removed at the path:\n",
      "  /Users/Riley/Documents/Research/User_Input_Module/SampleDir/sample_file.txt\n"
     ]
    }
   ],
   "source": [
    "def remove_sample_file(file_name, file_path) :\n",
    "    # Remove the sample file, if it exists\n",
    "    if os.path.isfile(file_path):\n",
    "        os.remove(file_path)\n",
    "        print(\"The file, %s, was removed at the path:\\n  %s\" % (file_name, file_path))\n",
    "    else:\n",
    "        print(\"The file, %s, does not exists at the path:\\n  %s\" % (file_name, file_path))\n",
    "\n",
    "remove_sample_file(file_name, file_path)"
   ]
  },
  {
   "cell_type": "markdown",
   "metadata": {},
   "source": [
    "# Error handling with os.remove()\n",
    "\n",
    "> os.remove() can throw an OSError if,\n",
    ">   1. the file does not exist at the path\n",
    ">       - `[WinError 2] The system cannot find the file specified`\n",
    ">       - `FileNotFoundError: [Errno 2] No such file or directory`\n",
    ">   2. The user doesn't have access to the file at the path\n",
    ">       - `[WinError 5] Access is denied`\n",
    ">   3. The path is actually a directory, not a file\n",
    ">       - `IsADirectoryError: [Errno 21] Is a directory`"
   ]
  },
  {
   "cell_type": "markdown",
   "metadata": {},
   "source": [
    "# Checking if a file is empty\n",
    "\n",
    "> To check if a file is empty, we can use `os.stat()`\n",
    "> Accepts a file path as a string\n",
    "> Returns an object of the structure stat\n",
    ">   > One of the stat attribues is file size, `st_size` tells us the size of the file in bytes"
   ]
  },
  {
   "cell_type": "code",
   "execution_count": 4,
   "metadata": {},
   "outputs": [
    {
     "name": "stdout",
     "output_type": "stream",
     "text": [
      "Destination Path:\n",
      "  /Users/Riley/Documents/Research/User_Input_Module/SampleDir\n",
      "File created at path:\n",
      "  /Users/Riley/Documents/Research/User_Input_Module/SampleDir/sample_file.txt\n",
      "File at path is not empty:\n",
      "  /Users/Riley/Documents/Research/User_Input_Module/SampleDir/sample_file.txt\n",
      "Destination Path:\n",
      "  /Users/Riley/Documents/Research/User_Input_Module/SampleDir\n",
      "File exists at path:\n",
      "  /Users/Riley/Documents/Research/User_Input_Module/SampleDir/sample_file.txt\n",
      "File emptied at path:\n",
      "  /Users/Riley/Documents/Research/User_Input_Module/SampleDir/sample_file.txt\n",
      "File is empty\n"
     ]
    }
   ],
   "source": [
    "def check_file_empty(file_path) :\n",
    "    # Check if size of file is 0\n",
    "    if os.stat(file_path).st_size == 0 :\n",
    "        print('File is empty')\n",
    "    else: \n",
    "        print(\"File at path is not empty:\\n  %s\" % file_path)\n",
    "\n",
    "def empty_file(file_path):\n",
    "    with open (file_path,\"w\") as file:\n",
    "        print(\"File emptied at path:\\n  %s\" % file_path)\n",
    "\n",
    "# Example when file is not empty\n",
    "dir_path = create_sample_dir(\"SampleDir\")\n",
    "file_name, file_path = create_sample_file(file_name = \"sample_file.txt\")\n",
    "check_file_empty(file_path)\n",
    "\n",
    "# Example when file is empty\n",
    "dir_path = create_sample_dir(\"SampleDir\")\n",
    "file_name, file_path = create_sample_file(file_name = \"sample_file.txt\")\n",
    "empty_file(file_path)\n",
    "check_file_empty(file_path)"
   ]
  },
  {
   "cell_type": "markdown",
   "metadata": {},
   "source": [
    "# Errors with checking if file is empty\n",
    "\n",
    "> A common error is the FileNotFound Error, see Python example below"
   ]
  },
  {
   "cell_type": "code",
   "execution_count": 5,
   "metadata": {},
   "outputs": [
    {
     "name": "stdout",
     "output_type": "stream",
     "text": [
      "Destination Path:\n",
      "  /Users/Riley/Documents/Research/User_Input_Module/SampleDir\n",
      "File exists at path:\n",
      "  /Users/Riley/Documents/Research/User_Input_Module/SampleDir/sample_file.txt\n",
      "The file, sample_file.txt, was removed at the path:\n",
      "  /Users/Riley/Documents/Research/User_Input_Module/SampleDir/sample_file.txt\n"
     ]
    },
    {
     "ename": "FileNotFoundError",
     "evalue": "[Errno 2] No such file or directory: '/Users/Riley/Documents/Research/User_Input_Module/SampleDir/sample_file.txt'",
     "output_type": "error",
     "traceback": [
      "\u001b[0;31m---------------------------------------------------------------------------\u001b[0m",
      "\u001b[0;31mFileNotFoundError\u001b[0m                         Traceback (most recent call last)",
      "\u001b[1;32m/Users/Riley/Documents/Research/User_Input_Module/Python_Notes/Files_Handling_Errors.ipynb Cell 10'\u001b[0m in \u001b[0;36m<cell line: 5>\u001b[0;34m()\u001b[0m\n\u001b[1;32m      <a href='vscode-notebook-cell:/Users/Riley/Documents/Research/User_Input_Module/Python_Notes/Files_Handling_Errors.ipynb#ch0000009?line=2'>3</a>\u001b[0m file_name, file_path \u001b[39m=\u001b[39m create_sample_file(file_name \u001b[39m=\u001b[39m \u001b[39m\"\u001b[39m\u001b[39msample_file.txt\u001b[39m\u001b[39m\"\u001b[39m)\n\u001b[1;32m      <a href='vscode-notebook-cell:/Users/Riley/Documents/Research/User_Input_Module/Python_Notes/Files_Handling_Errors.ipynb#ch0000009?line=3'>4</a>\u001b[0m remove_sample_file(file_name,file_path)\n\u001b[0;32m----> <a href='vscode-notebook-cell:/Users/Riley/Documents/Research/User_Input_Module/Python_Notes/Files_Handling_Errors.ipynb#ch0000009?line=4'>5</a>\u001b[0m check_file_empty(file_path)\n",
      "\u001b[1;32m/Users/Riley/Documents/Research/User_Input_Module/Python_Notes/Files_Handling_Errors.ipynb Cell 8'\u001b[0m in \u001b[0;36mcheck_file_empty\u001b[0;34m(file_path)\u001b[0m\n\u001b[1;32m      <a href='vscode-notebook-cell:/Users/Riley/Documents/Research/User_Input_Module/Python_Notes/Files_Handling_Errors.ipynb#ch0000007?line=0'>1</a>\u001b[0m \u001b[39mdef\u001b[39;00m \u001b[39mcheck_file_empty\u001b[39m(file_path) :\n\u001b[1;32m      <a href='vscode-notebook-cell:/Users/Riley/Documents/Research/User_Input_Module/Python_Notes/Files_Handling_Errors.ipynb#ch0000007?line=1'>2</a>\u001b[0m     \u001b[39m# Check if size of file is 0\u001b[39;00m\n\u001b[0;32m----> <a href='vscode-notebook-cell:/Users/Riley/Documents/Research/User_Input_Module/Python_Notes/Files_Handling_Errors.ipynb#ch0000007?line=2'>3</a>\u001b[0m     \u001b[39mif\u001b[39;00m os\u001b[39m.\u001b[39;49mstat(file_path)\u001b[39m.\u001b[39mst_size \u001b[39m==\u001b[39m \u001b[39m0\u001b[39m :\n\u001b[1;32m      <a href='vscode-notebook-cell:/Users/Riley/Documents/Research/User_Input_Module/Python_Notes/Files_Handling_Errors.ipynb#ch0000007?line=3'>4</a>\u001b[0m         \u001b[39mprint\u001b[39m(\u001b[39m'\u001b[39m\u001b[39mFile is empty\u001b[39m\u001b[39m'\u001b[39m)\n\u001b[1;32m      <a href='vscode-notebook-cell:/Users/Riley/Documents/Research/User_Input_Module/Python_Notes/Files_Handling_Errors.ipynb#ch0000007?line=4'>5</a>\u001b[0m     \u001b[39melse\u001b[39;00m: \n",
      "\u001b[0;31mFileNotFoundError\u001b[0m: [Errno 2] No such file or directory: '/Users/Riley/Documents/Research/User_Input_Module/SampleDir/sample_file.txt'"
     ]
    }
   ],
   "source": [
    "# Example when file is not found\n",
    "dir_path = create_sample_dir(\"SampleDir\")\n",
    "file_name, file_path = create_sample_file(file_name = \"sample_file.txt\")\n",
    "remove_sample_file(file_name,file_path)\n",
    "check_file_empty(file_path)"
   ]
  }
 ],
 "metadata": {
  "interpreter": {
   "hash": "219f28c729eda709583e1ab80762c396fbb24857f282d49252dc64048c611cb8"
  },
  "kernelspec": {
   "display_name": "Python 3.9.12 ('MOD')",
   "language": "python",
   "name": "python3"
  },
  "language_info": {
   "codemirror_mode": {
    "name": "ipython",
    "version": 3
   },
   "file_extension": ".py",
   "mimetype": "text/x-python",
   "name": "python",
   "nbconvert_exporter": "python",
   "pygments_lexer": "ipython3",
   "version": "3.9.12"
  },
  "orig_nbformat": 4
 },
 "nbformat": 4,
 "nbformat_minor": 2
}
