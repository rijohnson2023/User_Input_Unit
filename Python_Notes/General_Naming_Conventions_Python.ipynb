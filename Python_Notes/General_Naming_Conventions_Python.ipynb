{
 "cells": [
  {
   "cell_type": "markdown",
   "metadata": {},
   "source": [
    "# Python Naming Conventions\n",
    "\n",
    "### An introduction to PEP8\n",
    "\n",
    "#### Table of contents\n",
    "\n",
    "1. Naming conventions\n",
    "2. Code layout\n",
    "3. Indentation\n",
    "4. Comments\n",
    "5. Whitespace in expessions and statements\n",
    "6. When to ignore PEP8\n",
    "7. Tips and tricks to ensure your code follows PEP8"
   ]
  },
  {
   "cell_type": "markdown",
   "metadata": {},
   "source": [
    "## Naming conventions\n",
    "\n",
    "PEP8's primary focus is to improve the readability and consistency of code\n",
    "\n",
    "*Idea:* Code is read much more often than it is written\n",
    "*Principle:* Explicit is better than implicit\n",
    "\n",
    "- Choosing sensible names will will save you time and energy later\n",
    "- Never use l, 0, or I single letter names as these can be mistaken for 1 or 0 depending on typeface"
   ]
  },
  {
   "cell_type": "code",
   "execution_count": 1,
   "metadata": {},
   "outputs": [],
   "source": [
    "O = 2 # This might look like you are trying to reassign 2 to zero."
   ]
  },
  {
   "cell_type": "markdown",
   "metadata": {},
   "source": [
    "### Examples\n",
    "1. *Function:* Use a lowercase word or words. Separate words by underscores to improve readability.\n",
    "2. *Variable:* Use a lowercase single letter, word, or words. Separate words by underscores to improve readability.\n",
    "3. *Class:* Start each word with a capital letter. Do not separate words with underscores. (CamelCase)\n",
    "4. *Method:* Use a lowercase word or words. Separate words with underscores to imporve readability\n",
    "5. *Constant:* Use an uppercase single letter, word or words. Separate words with underscored to improve readability\n",
    "6. *Module:* Use a short lowercase word or words. Separate words with underscores to improve readability.\n",
    "7. *Package:* Use a short lowercase word or words. Do not separate words with underscores."
   ]
  },
  {
   "cell_type": "markdown",
   "metadata": {},
   "source": [
    "## Choosing Names\n",
    "\n"
   ]
  }
 ],
 "metadata": {
  "interpreter": {
   "hash": "219f28c729eda709583e1ab80762c396fbb24857f282d49252dc64048c611cb8"
  },
  "kernelspec": {
   "display_name": "Python 3.9.12 ('MOD')",
   "language": "python",
   "name": "python3"
  },
  "language_info": {
   "codemirror_mode": {
    "name": "ipython",
    "version": 3
   },
   "file_extension": ".py",
   "mimetype": "text/x-python",
   "name": "python",
   "nbconvert_exporter": "python",
   "pygments_lexer": "ipython3",
   "version": "3.9.12"
  },
  "orig_nbformat": 4
 },
 "nbformat": 4,
 "nbformat_minor": 2
}
