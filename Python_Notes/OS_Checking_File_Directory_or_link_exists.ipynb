{
 "cells": [
  {
   "cell_type": "markdown",
   "metadata": {},
   "source": [
    "# How to check if a file or directory or link exists in Python\n",
    "\n",
    "Table of contents\n",
    "1. Checking if a path exists\n",
    "1. File exists\n",
    "2. Directory exists\n",
    "3. If given path is a link"
   ]
  },
  {
   "cell_type": "markdown",
   "metadata": {},
   "source": [
    "## Checking if a path exists\n",
    "\n",
    "- Use the OS module"
   ]
  },
  {
   "cell_type": "code",
   "execution_count": 1,
   "metadata": {},
   "outputs": [
    {
     "name": "stdout",
     "output_type": "stream",
     "text": [
      "/Users/Riley/Documents/Research/User_Input_Module/Python_Notes\n",
      "<class 'str'>\n",
      "True\n",
      "<class 'bool'>\n"
     ]
    }
   ],
   "source": [
    "import os\n",
    "# Get the current working directory path\n",
    "\n",
    "cwd_path = os.getcwd()\n",
    "print(cwd_path)\n",
    "print(type(cwd_path))\n",
    "\n",
    "# Check if the current working directory exists...hint: it should\n",
    "answer = os.path.exists(cwd_path)\n",
    "print(answer)\n",
    "print(type(answer))"
   ]
  },
  {
   "cell_type": "code",
   "execution_count": 2,
   "metadata": {},
   "outputs": [
    {
     "name": "stdout",
     "output_type": "stream",
     "text": [
      "Path: /Users/Riley/Documents/Research/User_Input_Module/Python_Notes exists.\n"
     ]
    }
   ],
   "source": [
    "# Formally checking if the current working directory exists or not\n",
    "if os.path.exists(cwd_path) :\n",
    "    print('Path: %s exists.' % cwd_path)\n",
    "else: \n",
    "    print('Path: %s does not exist.' % cwd_path)"
   ]
  },
  {
   "cell_type": "markdown",
   "metadata": {},
   "source": [
    "#### Key Take-Aways\n",
    "1. You can locate the current working directory with `os.getcwd()`\n",
    "   - Returns path as string\n",
    "2. You can check if a path exists using `os.path.exists(path_str)`\n",
    "   - Returns bool\n",
    "3. with `os.path.exists(path_str)` we can make sure that a given path exists or not, but we cannot determine if its a file, directory, or link"
   ]
  },
  {
   "cell_type": "markdown",
   "metadata": {},
   "source": [
    "## Checking if a file path exists\n",
    "\n",
    "- To check if a given file exists or not, we can use `os.path.isfile(path)`"
   ]
  },
  {
   "cell_type": "code",
   "execution_count": 3,
   "metadata": {},
   "outputs": [
    {
     "name": "stdout",
     "output_type": "stream",
     "text": [
      "<module 'posixpath' from '/Users/Riley/opt/anaconda3/envs/MOD/lib/python3.9/posixpath.py'>\n",
      "<class 'module'>\n",
      "True\n",
      "<class 'bool'>\n"
     ]
    }
   ],
   "source": [
    "filename = 'Checking_File_Directory_or_link_exists.ipynb'\n",
    "answer = os.path.isfile(filename)\n",
    "print(os.path)\n",
    "print(type(os.path))\n",
    "print(answer)\n",
    "print(type(answer))"
   ]
  },
  {
   "cell_type": "markdown",
   "metadata": {},
   "source": [
    "### Scenario\n",
    "\n",
    "- Suppose we want to open a file, but that file doesn't exist \n",
    "- It will throw a runtime error\n",
    "\n",
    "`FileNotFoundError: [Errno 2] No such file or directory: ‘/home/varun/temp/sample1.csv’`\n",
    "\n",
    "To avoid this error, we should first check if file exists or not"
   ]
  },
  {
   "cell_type": "code",
   "execution_count": 4,
   "metadata": {},
   "outputs": [
    {
     "name": "stdout",
     "output_type": "stream",
     "text": [
      "['', 'Users', 'Riley', 'Documents', 'Research', 'User_Input_Module', 'Python_Notes']\n"
     ]
    }
   ],
   "source": [
    "# Get the current working directory\n",
    "cwd_path = os.getcwd()\n",
    "\n",
    "# Split the file on the '/'\n",
    "cwd_path = cwd_path.split(\"/\")\n",
    "\n",
    "print(cwd_path)"
   ]
  },
  {
   "cell_type": "code",
   "execution_count": 5,
   "metadata": {},
   "outputs": [
    {
     "name": "stdout",
     "output_type": "stream",
     "text": [
      "/Users/Riley/Documents/Research\n"
     ]
    },
    {
     "data": {
      "text/plain": [
       "['Scraping',\n",
       " 'ConsoleMenuTest.py',\n",
       " 'User_Input_Module',\n",
       " 'modifier_v03.py',\n",
       " 'TestFiles',\n",
       " '.DS_Store',\n",
       " 'Admin',\n",
       " 'Practice_RJ_Local',\n",
       " 'Scripts',\n",
       " 'File_Input_Test_Files',\n",
       " 'MOD']"
      ]
     },
     "execution_count": 5,
     "metadata": {},
     "output_type": "execute_result"
    }
   ],
   "source": [
    "newPath = '/'.join(cwd_path[:len(cwd_path)-2])\n",
    "print(newPath)\n",
    "os.listdir(newPath)"
   ]
  },
  {
   "cell_type": "markdown",
   "metadata": {},
   "source": [
    "# Key Take-Aways\n",
    "\n",
    "1. check if path exists\n",
    "   1. `os.path.exists(path_str)`\n",
    "2. check if file exists\n",
    "   1. `os.path.isfile(file_path_str)`\n",
    "3. check if directory exists\n",
    "   1. `os.path.isdir(dir_path_str)`\n",
    "5. check if path is given link\n",
    "   1. `os.path.islink(link_path_str)`"
   ]
  },
  {
   "cell_type": "code",
   "execution_count": 6,
   "metadata": {},
   "outputs": [
    {
     "name": "stdout",
     "output_type": "stream",
     "text": [
      "this\n"
     ]
    }
   ],
   "source": [
    "print(\"this\")"
   ]
  }
 ],
 "metadata": {
  "interpreter": {
   "hash": "219f28c729eda709583e1ab80762c396fbb24857f282d49252dc64048c611cb8"
  },
  "kernelspec": {
   "display_name": "Python 3.9.12 ('MOD')",
   "language": "python",
   "name": "python3"
  },
  "language_info": {
   "codemirror_mode": {
    "name": "ipython",
    "version": 3
   },
   "file_extension": ".py",
   "mimetype": "text/x-python",
   "name": "python",
   "nbconvert_exporter": "python",
   "pygments_lexer": "ipython3",
   "version": "3.9.12"
  },
  "orig_nbformat": 4
 },
 "nbformat": 4,
 "nbformat_minor": 2
}
