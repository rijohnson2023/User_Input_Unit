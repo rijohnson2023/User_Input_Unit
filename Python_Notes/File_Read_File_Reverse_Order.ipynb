{
 "cells": [
  {
   "cell_type": "markdown",
   "metadata": {},
   "source": [
    "# Reading a file in reverse order line by line\n",
    "\n",
    "**An efficient solution to read the contents of a text or CSV file line by line or to get the lines as a list in reverse order**\n",
    "\n",
    "# Read a file line by line in reverse order Python\n",
    "\n",
    "1. Start reading the file from the last line of the file and continueing until the start of the file\n",
    "1. As soon as the reader encounters and '\\n', a complete line is read\n",
    "1. That line is yielded\n",
    "1. The reader continues reading in the reverse direction until the top of the file is reached"
   ]
  },
  {
   "cell_type": "code",
   "execution_count": 12,
   "metadata": {},
   "outputs": [],
   "source": [
    "import os\n",
    "\n",
    "# Locate current working directory\n",
    "cwd_list = os.getcwd().split('/')\n",
    "\n",
    "# Since notes SHOULD be kept in their own sub-directory, we will move up one directory\n",
    "wd1 = \"/\".join(cwd_list[:len(cwd_list)-1])\n",
    "\n",
    "# Check to see if the SampleDir is a directory in wd1 (work directory 1)\n",
    "dir_name = \"SampleDir\"\n",
    "dir_path = os.path.join(wd1,dir_name)\n",
    "if not os.path.isdir(dir_path) :\n",
    "    os.mkdir(dir_path)\n",
    "\n",
    "# Make the dummy file\n",
    "file_name = \"dummy_file.txt\"\n",
    "file_path = os.path.join(dir_path,file_name)\n",
    "with open(file_path,\"w\") as file:\n",
    "    [file.write(\"line%d\\n\" % (num)) for num in range(1,10)]"
   ]
  },
  {
   "cell_type": "code",
   "execution_count": null,
   "metadata": {},
   "outputs": [],
   "source": [
    "def read_reverse_order(file_path):\n",
    "    \"\"\"Read in reverse order line by line\"\"\"\n",
    "    with open(file_path,\"rb\") as file:\n",
    "        # Move the cursor to the end of the file\n",
    "        file.seek(0, os.SEEK_END)\n",
    "        # Get the current position of the pointer\n",
    "        pointer_location = file.tell()\n",
    "        # Create a buffer to keep the last read line\n",
    "        buffer = bytearray()\n",
    "        # Loop till pointer reaches the top of the file\n",
    "        while pointer_location >= 0:\n",
    "            # move the file pointer to the location pointed by the pointer location\n",
    "            file.seek(pointer_location)\n",
    "            # Shift the pointer location by -1\n",
    "            pointer_location -= 1\n",
    "            # Read that Byte/Character\n",
    "            new_byte = file.read(1)\n",
    "            # if the read byte is a new line character then it means one line is read\n",
    "            if new_byte == b'\\n' :\n",
    "                #Fetch the line from buffer and yield it\n",
    "                yield buffer.decode()[::-1]\n",
    "                # Reinitialize the byte array to save next line\n",
    "                buffer = bytearray()\n",
    "            else:\n",
    "                # if last read character is not EOL then add it into the buffer\n",
    "                buffer.extend(new_byte)\n",
    "        # As file is read completely, if there is still data in the buffer, then it is the first line.\n",
    "        if len(buffer) > 0:\n",
    "            # Yield the first line too\n",
    "            yield buffer.decode()[::-1]"
   ]
  }
 ],
 "metadata": {
  "interpreter": {
   "hash": "219f28c729eda709583e1ab80762c396fbb24857f282d49252dc64048c611cb8"
  },
  "kernelspec": {
   "display_name": "Python 3.9.12 ('MOD')",
   "language": "python",
   "name": "python3"
  },
  "language_info": {
   "codemirror_mode": {
    "name": "ipython",
    "version": 3
   },
   "file_extension": ".py",
   "mimetype": "text/x-python",
   "name": "python",
   "nbconvert_exporter": "python",
   "pygments_lexer": "ipython3",
   "version": "3.9.12"
  },
  "orig_nbformat": 4
 },
 "nbformat": 4,
 "nbformat_minor": 2
}
