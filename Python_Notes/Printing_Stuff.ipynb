{
 "cells": [
  {
   "cell_type": "code",
   "execution_count": 1,
   "metadata": {},
   "outputs": [
    {
     "name": "stdout",
     "output_type": "stream",
     "text": [
      "exiv2-devel                   mingw-libs                    tcltk-demos\n",
      "fcgi                          netcdf                        pdcurses-devel\n",
      "msvcrt                        gdal-grass                    iconv\n",
      "qgis-devel                    qgis1.1                       php_mapscript\n"
     ]
    }
   ],
   "source": [
    "foolist = ['exiv2-devel', 'mingw-libs', 'tcltk-demos', 'fcgi', 'netcdf', \n",
    "    'pdcurses-devel',     'msvcrt', 'gdal-grass', 'iconv', 'qgis-devel', \n",
    "    'qgis1.1', 'php_mapscript']\n",
    "\n",
    "for a,b,c in zip(foolist[::3],foolist[1::3],foolist[2::3]) :\n",
    "    print('{:<30}{:<30}{:<}'.format(a,b,c))"
   ]
  },
  {
   "cell_type": "code",
   "execution_count": 15,
   "metadata": {},
   "outputs": [
    {
     "name": "stdout",
     "output_type": "stream",
     "text": [
      "\n",
      "exiv2-foolistevel    msvcrt\n",
      "mingw-libs           gfoolistal-grass\n",
      "tcltk-foolistemos    iconv\n",
      "fcgi                 qgis-foolistevel\n",
      "netcfoolistf         qgis1.1\n",
      "pfoolistcurses-foolistevel php_mapscript\n"
     ]
    }
   ],
   "source": [
    "foolist = ['exiv2-foolistevel', 'mingw-libs', 'tcltk-foolistemos', 'fcgi', 'netcfoolistf', 'pfoolistcurses-foolistevel', 'msvcrt', 'gfoolistal-grass', 'iconv', 'qgis-foolistevel', 'qgis1.1', 'php_mapscript']\n",
    "listB = [\"%-20s %s\" % (foolist[i],foolist[i + int(len(foolist) / 2)]) for i in range(int(len(foolist) / 2))]\n",
    "print(\"\\n\".join(listB))"
   ]
  },
  {
   "cell_type": "code",
   "execution_count": null,
   "metadata": {},
   "outputs": [],
   "source": []
  }
 ],
 "metadata": {
  "interpreter": {
   "hash": "219f28c729eda709583e1ab80762c396fbb24857f282d49252dc64048c611cb8"
  },
  "kernelspec": {
   "display_name": "Python 3.9.12 ('MOD')",
   "language": "python",
   "name": "python3"
  },
  "language_info": {
   "codemirror_mode": {
    "name": "ipython",
    "version": 3
   },
   "file_extension": ".py",
   "mimetype": "text/x-python",
   "name": "python",
   "nbconvert_exporter": "python",
   "pygments_lexer": "ipython3",
   "version": "3.9.12"
  },
  "orig_nbformat": 4
 },
 "nbformat": 4,
 "nbformat_minor": 2
}
