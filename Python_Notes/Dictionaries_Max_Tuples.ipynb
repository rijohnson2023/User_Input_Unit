{
 "cells": [
  {
   "cell_type": "markdown",
   "metadata": {},
   "source": [
    "# Finding a key with a maximum value in a dictionary."
   ]
  },
  {
   "cell_type": "code",
   "execution_count": 1,
   "metadata": {},
   "outputs": [],
   "source": [
    "# Create a dictionary of string and int\n",
    "sampleDict = {  'Ritika': 5, 'Sam': 27, 'John' : 10 , 'Sachin' : 14, 'Mark' : 19 }"
   ]
  },
  {
   "cell_type": "markdown",
   "metadata": {},
   "source": [
    "- We want to find the maximum value in the dictionary, and also the key associated with it.\n",
    "- we are going to use the max() function"
   ]
  },
  {
   "cell_type": "code",
   "execution_count": 2,
   "metadata": {},
   "outputs": [
    {
     "name": "stdout",
     "output_type": "stream",
     "text": [
      "Max value in Dict:  27\n",
      "Key with Max Value in Dict:  Sam\n"
     ]
    }
   ],
   "source": [
    "# Find key with Max Value\n",
    "itemMaxValue = max(sampleDict.items(), key = lambda x : x[1])\n",
    "\n",
    "print('Max value in Dict: ', itemMaxValue[1])\n",
    "print('Key with Max Value in Dict: ', itemMaxValue[0])"
   ]
  },
  {
   "cell_type": "markdown",
   "metadata": {},
   "source": [
    "## How max() works\n",
    "\n",
    "    max(iterable, *[, key,default])\n",
    "\n",
    "### Arguements\n",
    "\n",
    "- The arguements include an iterable and a key\n",
    "- **Iterable:** An iterable object\n",
    "- **Key:** A function that will be applied to each item in the iterable and it returns a value based on the passed arguement\n",
    "\n",
    "### Return\n",
    "\n",
    "- max() returns the item with the max value in the iterable.\n",
    "  - if **Key** is not provided, it directly compares the items in the iterable to find out the max value.\n",
    "  - if **Key** is provided, it will call the key function on item and then compare it with others\n",
    "\n",
    "### Key Take-Aways\n",
    "\n",
    "1. In the example, we wanted to find the key with the max value in the dictionary\n",
    "2. We passed the iterable returned by dict.items(), `Iterable of key / value tuples`.\n",
    "3. max() function can't compare tuples directly.\n",
    "4. We passed a key function too, `key=lambda x : x[1]`"
   ]
  },
  {
   "cell_type": "markdown",
   "metadata": {},
   "source": [
    "## How `key=lambda x : x[1]` works\n",
    "\n",
    "Key Take-Aways\n",
    "1. This key function accepts a tuple as an arguement\n",
    "2. retuns the 2nd value in the tuple, `item at index 1`.\n",
    "\n",
    "When a tuple of `key, value` is passed to this function, it returns the value field from that tuple\n",
    "\n",
    "**Note:** See Background on tuples for more information"
   ]
  },
  {
   "cell_type": "markdown",
   "metadata": {},
   "source": [
    "### Moving through the code\n",
    "\n",
    "    max(sampleDict.items()), key=lambda x : x[1])\n",
    "\n",
    "- sampleDict.items() returns an iterable (a tuple of tuples)\n",
    "- max() function calls the key function on each item (tuple) of the iterable\n",
    "- The key function returns the second element in the tuple, the int\n",
    "- Max compares the int across all items in the tuple returned by sampleDict.items()\n",
    "- Finds the item, (key/value tuple) with the maximum value in dictionary\n",
    "- Fetches the key and value fields\n",
    "\n",
    "**Note:** Does not work with multiple keys in the dictionary with maximum value"
   ]
  },
  {
   "cell_type": "markdown",
   "metadata": {},
   "source": [
    "# Finding all keys with the maximum value in a dictionary "
   ]
  },
  {
   "cell_type": "code",
   "execution_count": 3,
   "metadata": {},
   "outputs": [],
   "source": [
    "# Create a dictionary of string and int\n",
    "sampleDict = {'Ritika': 5, 'Sam': 27, 'John': 12, 'Sachin': 14, 'Mark': 19, 'Shaun' : 27}"
   ]
  },
  {
   "cell_type": "markdown",
   "metadata": {},
   "source": [
    "## Key Take-Aways\n",
    "\n",
    "- We want to find all keys with the maximum value\n",
    "- We will first use the max() function to find the first key ith the max value like above\n",
    "- Once we know the max value in the dictionary, we will iterate over all items in the dictionary to find all keys with the max value"
   ]
  },
  {
   "cell_type": "code",
   "execution_count": 4,
   "metadata": {},
   "outputs": [
    {
     "name": "stdout",
     "output_type": "stream",
     "text": [
      "Maximum Vlaue in Dictionary :  27\n",
      "Keys with maximum Value in Dictionary :  ['Sam', 'Shaun']\n"
     ]
    }
   ],
   "source": [
    "# Find item with Max Value in Dictionary\n",
    "itemMaxValue = max(sampleDict.items(), key=lambda x: x[1]) # Returns (key,value) tuple, aka the iterable object returned from sampleDict.items()\n",
    "\n",
    "print('Maximum Vlaue in Dictionary : ', itemMaxValue[1])\n",
    "\n",
    "listOfKeys = list()\n",
    "# Iterate over all the items in the dictionary to find keys with max value\n",
    "\n",
    "for key, value in sampleDict.items():\n",
    "    if value == itemMaxValue[1]:\n",
    "        listOfKeys.append(key)\n",
    "\n",
    "print('Keys with maximum Value in Dictionary : ', listOfKeys)"
   ]
  },
  {
   "cell_type": "markdown",
   "metadata": {},
   "source": [
    "### Background on tuples\n",
    "\n",
    "> Link: https://thispointer.com/python-how-to-get-all-keys-with-maximum-value-in-a-dictionary/\n",
    "\n",
    "#### Defining a `Tuple`\n",
    "\n",
    "- Tuples are used for grouping data, `year_born = (\"Laguna Woods\", 1999)`\n",
    "- This is a **Data Stucture:** a mechanism for grouping and organizing data to make it easier to use.\n",
    "- Tuples can be used to group together any number of items into a single compound value, `julia = (\"Julia\", \"Roberts\", 1967, \"Duplicity\", 2009, \"Actress\", \"Atlanta, Georgia\")`\n",
    "- Tuples are useful for representing what other languages call *records*"
   ]
  },
  {
   "cell_type": "code",
   "execution_count": 5,
   "metadata": {},
   "outputs": [],
   "source": [
    "year_born= ('Laguna Woods', 1999)\n",
    "julia = ('Julia', 'Roberts', 1967, 'Duplicity', 2009, 'Actress', 'Atlanta Georgia')"
   ]
  },
  {
   "cell_type": "markdown",
   "metadata": {},
   "source": [
    "#### Tuple Assignment\n",
    "\n",
    "- Python's tuple assignment allows a tuple of variables on the left of an assignment to be assigned values from a tuple on the right of an assignment, `(name, surname, b_year, movie, m_year, profession, b_place) = julia`\n",
    "- Essentially this does sevn assignment statements all in one line\n",
    "- The only requirement is that the number of variables on the left must match the number of elements in the tuple"
   ]
  },
  {
   "cell_type": "code",
   "execution_count": 6,
   "metadata": {},
   "outputs": [
    {
     "name": "stdout",
     "output_type": "stream",
     "text": [
      "('Julia', 'Roberts', 1967, 'Duplicity', 2009, 'Actress', 'Atlanta Georgia')\n",
      "---------------------------------------------------------------------------\n",
      "Julia, Roberts, 1967, Duplicity, 2009, Actress, Atlanta Georgia\n"
     ]
    }
   ],
   "source": [
    "(name, surname, b_year, movie, m_year, profession, b_place) = julia\n",
    "print(julia, end=\"\\n\"+ \"-\"*len(julia.__repr__()) + \"\\n\")\n",
    "print(name, surname, b_year, movie, m_year, profession, b_place, sep = \", \", )"
   ]
  },
  {
   "cell_type": "markdown",
   "metadata": {},
   "source": [
    "##### Tuple Packing\n",
    "\n",
    "- In tuple packing, the values on the right of *'='* are *packed* together in a tuple, `b= ('Riley', 22, \"CHM & EB\") # Tuple Packing`"
   ]
  },
  {
   "cell_type": "code",
   "execution_count": 7,
   "metadata": {},
   "outputs": [],
   "source": [
    "b= ('Riley', 22, \"CHM & EB\") # Tuple Packing"
   ]
  },
  {
   "cell_type": "markdown",
   "metadata": {},
   "source": [
    "#### Tuple Unpacking\n",
    "\n",
    "- In tuple unpacking, the values in tuple *b* are *'unpacked'* into the variables on the left of *'='*, `(name, age, major) = b # Tuple unpacking`"
   ]
  },
  {
   "cell_type": "code",
   "execution_count": 8,
   "metadata": {},
   "outputs": [],
   "source": [
    "(name, age, major) = b # Tuple unpacking"
   ]
  },
  {
   "cell_type": "code",
   "execution_count": 9,
   "metadata": {},
   "outputs": [
    {
     "name": "stdout",
     "output_type": "stream",
     "text": [
      "('Riley', 22, 'CHM & EB')\n",
      "-------------------------\n",
      "Riley, 22, CHM & EB\n"
     ]
    }
   ],
   "source": [
    "# Printing out all of the values\n",
    "print(b, end=\"\\n\"+ \"-\"*len(b.__repr__()) + \"\\n\")\n",
    "print(name, age, major, sep = \", \", )"
   ]
  }
 ],
 "metadata": {
  "interpreter": {
   "hash": "219f28c729eda709583e1ab80762c396fbb24857f282d49252dc64048c611cb8"
  },
  "kernelspec": {
   "display_name": "Python 3.9.12 ('MOD')",
   "language": "python",
   "name": "python3"
  },
  "language_info": {
   "codemirror_mode": {
    "name": "ipython",
    "version": 3
   },
   "file_extension": ".py",
   "mimetype": "text/x-python",
   "name": "python",
   "nbconvert_exporter": "python",
   "pygments_lexer": "ipython3",
   "version": "3.9.12"
  },
  "orig_nbformat": 4
 },
 "nbformat": 4,
 "nbformat_minor": 2
}
