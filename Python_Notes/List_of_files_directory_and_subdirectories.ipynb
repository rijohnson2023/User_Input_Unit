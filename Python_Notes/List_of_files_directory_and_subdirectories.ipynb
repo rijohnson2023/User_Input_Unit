{
 "cells": [
  {
   "cell_type": "markdown",
   "metadata": {},
   "source": [
    "# Creating a list of files in a directory and sub directories\n",
    "\n",
    "Pythons' os module provides a function to get the list of files or folders in a directory\n",
    "\n",
    "i.e. `os.listdir(path='.')`\n",
    "\n",
    "returns a list of all the files and subdirectories in the given path\n",
    "\n",
    "We need to call this recursively for subdirectories to create a complete list of files in a given directory tree"
   ]
  },
  {
   "cell_type": "code",
   "execution_count": 10,
   "metadata": {},
   "outputs": [],
   "source": [
    "import os\n",
    "\n",
    "\"\"\"\n",
    "For the given path, get the list of all files in the directory tree\n",
    "\"\"\"\n",
    "\n",
    "def getListOfFiles(dirname):\n",
    "    \"\"\"\n",
    "    Gets a list of files in a directory tree\n",
    "    \"\"\"\n",
    "    # Create a list of file and subdirectory names in the given directory\n",
    "    listOfFile = os.listdir(dirname)\n",
    "    allFiles = list()\n",
    "    # Iterate over all the entries\n",
    "    for entry in listOfFile :\n",
    "        # Create full path\n",
    "        fullPath = os.path.join(dirname, entry)\n",
    "        # If entry is a directoru then get the list of files in this directory\n",
    "        if os.path.isdir(fullPath): \n",
    "            allFiles = allFiles + getListOfFiles(fullPath)\n",
    "        else: \n",
    "            allFiles.append(fullPath)\n",
    "    return allFiles"
   ]
  },
  {
   "cell_type": "code",
   "execution_count": 11,
   "metadata": {},
   "outputs": [
    {
     "name": "stdout",
     "output_type": "stream",
     "text": [
      "2793\n",
      "['/Users/Riley/Documents/Research/Scraping/BasisSetExchangeScrapes/BasisSetExchange_URL_Test.xlsx',\n",
      " '/Users/Riley/Documents/Research/Scraping/BasisSetExchangeScrapes/bsNameAndRecordTest2.txt',\n",
      " '/Users/Riley/Documents/Research/Scraping/GoodVibes-3.0.1/.DS_Store',\n",
      " '/Users/Riley/Documents/Research/Scraping/GoodVibes-3.0.1/goodvibes/vib_scale_factors.py',\n",
      " '/Users/Riley/Documents/Research/Scraping/GoodVibes-3.0.1/goodvibes/media.py',\n",
      " '/Users/Riley/Documents/Research/Scraping/GoodVibes-3.0.1/goodvibes/requirements.txt',\n",
      " '/Users/Riley/Documents/Research/Scraping/GoodVibes-3.0.1/goodvibes/__init__.py',\n",
      " '/Users/Riley/Documents/Research/Scraping/GoodVibes-3.0.1/goodvibes/GoodVibes.py',\n",
      " '/Users/Riley/Documents/Research/Scraping/GoodVibes-3.0.1/goodvibes/test.py',\n",
      " '/Users/Riley/Documents/Research/Scraping/GoodVibes-3.0.1/goodvibes/examples/ethane_TZ.out',\n",
      " '/Users/Riley/Documents/Research/Scraping/GoodVibes-3.0.1/goodvibes/examples/media_conc/H2O.log',\n",
      " '/Users/Riley/Documents/Research/Scraping/GoodVibes-3.0.1/goodvibes/examples/media_conc/MeOH.log']\n"
     ]
    }
   ],
   "source": [
    "import pprint as pp\n",
    "# Directory tree\n",
    "dirname = '/Users/Riley/Documents/Research'\n",
    "dirname2 = '/Users/Riley/Documents/Research/Scraping/basis_set_bundle-gaussian94-bib'\n",
    "\n",
    "# Get the list of all file in directory tree at given path\n",
    "listoffiles = getListOfFiles(dirname)\n",
    "print(len(listoffiles))\n",
    "pp.pprint(listoffiles[:12])"
   ]
  },
  {
   "cell_type": "markdown",
   "metadata": {},
   "source": [
    "# Creating a list of files in directory and subdirectories using os.walk()\n",
    "\n",
    "The os module has a function to iterate over a directory tree using `os.walk(path)`\n",
    "\n",
    "> It iterates of the directory tree at give path and for each director or subdirectory it returns a tuple containing\n",
    "> \n",
    "> `(Dir name, List of Sub Dirs, List of files)`\n",
    "> \n",
    "> We can use it to iterate over the directory tree and generate a list of all the files at a given path"
   ]
  },
  {
   "cell_type": "code",
   "execution_count": 28,
   "metadata": {},
   "outputs": [
    {
     "name": "stdout",
     "output_type": "stream",
     "text": [
      "Length of list of files: 2793\n",
      "\n",
      "Length of dirpath: 51\n",
      "'Final dirpath: /Users/Riley/Documents/Research/MOD/GaussianOutputs'\n",
      "\n",
      "Length of dirname: 31\n",
      "'Final dirname: /Users/Riley/Documents/Research'\n",
      "\n",
      "First 12 contents in list of files: \n",
      "['/Users/Riley/Documents/Research/ConsoleMenuTest.py',\n",
      " '/Users/Riley/Documents/Research/modifier_v03.py',\n",
      " '/Users/Riley/Documents/Research/.DS_Store',\n",
      " '/Users/Riley/Documents/Research/Scraping/BasisSetExchangeScrapes/BasisSetExchange_URL_Test.xlsx',\n",
      " '/Users/Riley/Documents/Research/Scraping/BasisSetExchangeScrapes/bsNameAndRecordTest2.txt',\n",
      " '/Users/Riley/Documents/Research/Scraping/GoodVibes-3.0.1/.DS_Store',\n",
      " '/Users/Riley/Documents/Research/Scraping/GoodVibes-3.0.1/MANIFEST.in',\n",
      " '/Users/Riley/Documents/Research/Scraping/GoodVibes-3.0.1/README.md',\n",
      " '/Users/Riley/Documents/Research/Scraping/GoodVibes-3.0.1/setup.py',\n",
      " '/Users/Riley/Documents/Research/Scraping/GoodVibes-3.0.1/.gitignore',\n",
      " '/Users/Riley/Documents/Research/Scraping/GoodVibes-3.0.1/changelog.txt',\n",
      " '/Users/Riley/Documents/Research/Scraping/GoodVibes-3.0.1/README.txt']\n"
     ]
    }
   ],
   "source": [
    "# Get the list of all files in a directory tree at a given path\n",
    "listoffiles = list()\n",
    "for (dirpath, dirnames, filenames) in os.walk(dirname):\n",
    "    listoffiles += [os.path.join(dirpath,file) for file in filenames]\n",
    "\n",
    "\n",
    "print(\"Length of list of files: %d\" % len(listoffiles))\n",
    "print(\"\\nLength of dirpath: %d\" % len(dirpath))\n",
    "pp.pprint(\"Final dirpath: %s\" % dirpath)\n",
    "print(\"\\nLength of dirname: %d\" % len(dirname))\n",
    "pp.pprint(\"Final dirname: %s\" % dirname)\n",
    "print(\"\\nFirst 12 contents in list of files: \")\n",
    "pp.pprint(listoffiles[:12])\n"
   ]
  },
  {
   "cell_type": "code",
   "execution_count": null,
   "metadata": {},
   "outputs": [],
   "source": []
  }
 ],
 "metadata": {
  "interpreter": {
   "hash": "219f28c729eda709583e1ab80762c396fbb24857f282d49252dc64048c611cb8"
  },
  "kernelspec": {
   "display_name": "Python 3.9.12 ('MOD')",
   "language": "python",
   "name": "python3"
  },
  "language_info": {
   "codemirror_mode": {
    "name": "ipython",
    "version": 3
   },
   "file_extension": ".py",
   "mimetype": "text/x-python",
   "name": "python",
   "nbconvert_exporter": "python",
   "pygments_lexer": "ipython3",
   "version": "3.9.12"
  },
  "orig_nbformat": 4
 },
 "nbformat": 4,
 "nbformat_minor": 2
}
