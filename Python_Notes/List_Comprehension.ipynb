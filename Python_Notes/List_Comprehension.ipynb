{
 "cells": [
  {
   "cell_type": "markdown",
   "metadata": {},
   "source": [
    "# Python: How to iterate over a list\n",
    "\n",
    "**Link:** https://www.pythonforbeginners.com/basics/list-comprehensions-in-python\n",
    "\n",
    "## Approaches\n",
    "\n",
    "- for-in loop\n",
    "- while loop\n",
    "- for loop & range\n",
    "- list comprehension"
   ]
  },
  {
   "cell_type": "code",
   "execution_count": 58,
   "metadata": {},
   "outputs": [],
   "source": [
    "from time import process_time\n",
    "# Data\n",
    "wordlist =list(['hi','hello','this','that','is','of','heeeeeeey'])"
   ]
  },
  {
   "cell_type": "code",
   "execution_count": 59,
   "metadata": {},
   "outputs": [
    {
     "name": "stdout",
     "output_type": "stream",
     "text": [
      "hi\n",
      "hello\n",
      "this\n",
      "that\n",
      "is\n",
      "of\n",
      "heeeeeeey\n"
     ]
    }
   ],
   "source": [
    "for elem in wordlist:\n",
    "    print(elem)"
   ]
  },
  {
   "cell_type": "markdown",
   "metadata": {},
   "source": [
    "## List Comprehension\n",
    "\n",
    "### Key Take-Aways\n",
    "\n",
    "- List comprehensions are an elegant way to create and manage lists\n",
    "- They are a more compact way of creating lists\n",
    "- They are more flexible than for loops, and are usually faster than other methods"
   ]
  },
  {
   "cell_type": "code",
   "execution_count": 60,
   "metadata": {},
   "outputs": [
    {
     "name": "stdout",
     "output_type": "stream",
     "text": [
      "hi\n",
      "hello\n",
      "this\n",
      "that\n",
      "is\n",
      "of\n",
      "heeeeeeey\n"
     ]
    }
   ],
   "source": [
    "\"\"\"\n",
    "Iterate over the list using List Comprehension\n",
    "\"\"\"\n",
    "catch_none = [print(i) for i in wordlist]"
   ]
  },
  {
   "cell_type": "markdown",
   "metadata": {},
   "source": [
    "### Syntax\n",
    "\n",
    "`my_new_list = [expression for item in list]`\n",
    "\n",
    "Three ingredient are necessary\n",
    "- The expression to be carried out: Inside square brackets\n",
    "- The object that the expression will work on: *Item*\n",
    "- An *iterable* list of objects to build our new list from\n",
    "\n",
    "> Imagine, you're performing an expression on each item in the list.\n",
    "> The exression will determine what item is eventually sotred in the output list\n",
    "> It's possible to add conditional statements in the form of filters, which allows for more precision in the way lists are handled.\n"
   ]
  },
  {
   "cell_type": "markdown",
   "metadata": {},
   "source": [
    "## Example 1"
   ]
  },
  {
   "cell_type": "code",
   "execution_count": 61,
   "metadata": {},
   "outputs": [
    {
     "name": "stdout",
     "output_type": "stream",
     "text": [
      "[0, 1, 2, 3, 4, 5, 6, 7, 8, 9]\n"
     ]
    }
   ],
   "source": [
    "\"\"\"\n",
    "Example 1: constructing a basic list using range()\n",
    "Syntax: [expression for item in list]\n",
    "\"\"\"\n",
    "digits = [x for x in range(10)]\n",
    "print(digits)\n"
   ]
  },
  {
   "cell_type": "markdown",
   "metadata": {},
   "source": [
    "#### Example 1: How it works\n",
    "\n",
    "1. *for* initiates a loop in Python\n",
    "2. It is creating a variable called *x* (Second x in the line), which points to the object returned by range()\n",
    "3. it stores that variable in the expression \"first *x*\"\n",
    "4. Stores the expression in a list\n",
    "5. finally digits points to the final list object"
   ]
  },
  {
   "cell_type": "markdown",
   "metadata": {},
   "source": [
    "## Example 2: Squaring"
   ]
  },
  {
   "cell_type": "code",
   "execution_count": 62,
   "metadata": {},
   "outputs": [
    {
     "name": "stdout",
     "output_type": "stream",
     "text": [
      "Python time: 0.000207\n",
      "Result: [0, 1, 4, 9, 16, 25, 36, 49, 64, 81, 100, 121, 144, 169, 196, 225, 256, 289, 324, 361]\n"
     ]
    }
   ],
   "source": [
    "#Comparision\n",
    "t1 = process_time()\n",
    "\n",
    "squares = list()\n",
    "for x in range(20) :\n",
    "    # raise x to power of 2\n",
    "    squares.append(x**2)\n",
    "\n",
    "t2 = process_time()\n",
    "\n",
    "print('Python time: %.6f' % float(t2-t1))\n",
    "print('Result: %s' % squares)"
   ]
  },
  {
   "cell_type": "code",
   "execution_count": 63,
   "metadata": {},
   "outputs": [
    {
     "name": "stdout",
     "output_type": "stream",
     "text": [
      "Python time: 0.000106\n",
      "Result: [0, 1, 4, 9, 16, 25, 36, 49, 64, 81, 100, 121, 144, 169, 196, 225, 256, 289, 324, 361]\n"
     ]
    }
   ],
   "source": [
    "# Create a list using list comprehension\n",
    "t1 = process_time()\n",
    "\n",
    "squares = [x**2 for x in range(20)]\n",
    "\n",
    "t2 = process_time()\n",
    "\n",
    "print('Python time: %.6f' % float(t2-t1))\n",
    "print('Result: %s' % squares)"
   ]
  },
  {
   "cell_type": "markdown",
   "metadata": {},
   "source": [
    "## Example 3: Multiplication and filtering a list"
   ]
  },
  {
   "cell_type": "code",
   "execution_count": 64,
   "metadata": {},
   "outputs": [
    {
     "name": "stdout",
     "output_type": "stream",
     "text": [
      "[6, 12, 18, 24, 30, 36, 42, 48, 54]\n",
      "[3, 9, 15, 21, 27, 33, 39, 45, 51, 57]\n"
     ]
    }
   ],
   "source": [
    "# create a list of multiples of three, but only return the even numbers\n",
    "even_numbers = [x*3 for x in range(1,20) if x % 2 == 0]\n",
    "print(even_numbers)\n",
    "\n",
    "# Create a list of multiples of three but only return the odd numbers\n",
    "odd_numbers = [x*3 for x in range(1,20) if x % 2 != 0]\n",
    "print(odd_numbers)"
   ]
  },
  {
   "cell_type": "markdown",
   "metadata": {},
   "source": [
    "## Example 4: Using list comprehension with strings"
   ]
  },
  {
   "cell_type": "code",
   "execution_count": 69,
   "metadata": {},
   "outputs": [
    {
     "name": "stdout",
     "output_type": "stream",
     "text": [
      "['E', 'L', 'F', 'T', 'E', 'S']\n"
     ]
    }
   ],
   "source": [
    "\"\"\"\n",
    "A list of the names of popular authors\n",
    "Create an acronym from the first letter of the author's names\n",
    "\"\"\"\n",
    "\n",
    "authors = [\"Earnest Hemingway\", \"Langston Hughes\", \"Frank Herbert\", \"Toni Morrison\", \"Emily Dickenson\", \"Stephan King\"]\n",
    "\n",
    "acronym = [name[0].upper() for name in authors]\n",
    "print(acronym)"
   ]
  },
  {
   "cell_type": "markdown",
   "metadata": {},
   "source": [
    "## Example 5: Printing the letters in a string"
   ]
  },
  {
   "cell_type": "code",
   "execution_count": 74,
   "metadata": {},
   "outputs": [
    {
     "name": "stdout",
     "output_type": "stream",
     "text": [
      "['2', '0', ',', '0', '0', '0', ' ', 'L', 'e', 'a', 'g', 'u', 'e', 's', ' ', 'U', 'n', 'd', 'e', 'r', ' ', 'T', 'h', 'e', ' ', 'S', 'e', 'a']\n"
     ]
    }
   ],
   "source": [
    "# Use list comprehension to print the letters in a string\n",
    "# syntax: my_new_list = [expression for item in list]\n",
    "string = \"20,000 Leagues Under The Sea\"\n",
    "letters = [letter for letter in string]\n",
    "print(letters)"
   ]
  },
  {
   "cell_type": "markdown",
   "metadata": {},
   "source": []
  },
  {
   "cell_type": "markdown",
   "metadata": {},
   "source": [
    "## Example 6 Changing a letter's case"
   ]
  },
  {
   "cell_type": "code",
   "execution_count": 1,
   "metadata": {},
   "outputs": [
    {
     "name": "stdout",
     "output_type": "stream",
     "text": [
      "['a', 'b', 'c', 'd', 'e', 'f', 'g', 'h', 'i', 'j', 'k', 'l', 'm', 'n', 'o', 'p', 'q', 'r', 's', 't', 'u', 'v', 'w', 'x', 'y', 'z', 'A', 'B', 'C', 'D', 'E', 'F', 'G', 'H', 'I', 'J', 'K', 'L', 'M', 'N', 'O', 'P', 'Q', 'R', 'S', 'T', 'U', 'V', 'W', 'X', 'Y', 'Z']\n",
      "\n",
      "['A', 'B', 'C', 'D', 'E', 'F', 'G', 'H', 'I', 'J', 'K', 'L', 'M', 'N', 'O', 'P', 'Q', 'R', 'S', 'T', 'U', 'V', 'W', 'X', 'Y', 'Z', 'A', 'B', 'C', 'D', 'E', 'F', 'G', 'H', 'I', 'J', 'K', 'L', 'M', 'N', 'O', 'P', 'Q', 'R', 'S', 'T', 'U', 'V', 'W', 'X', 'Y', 'Z']\n",
      "\n",
      "['a', 'b', 'c', 'd', 'e', 'f', 'g', 'h', 'i', 'j', 'k', 'l', 'm', 'n', 'o', 'p', 'q', 'r', 's', 't', 'u', 'v', 'w', 'x', 'y', 'z', 'a', 'b', 'c', 'd', 'e', 'f', 'g', 'h', 'i', 'j', 'k', 'l', 'm', 'n', 'o', 'p', 'q', 'r', 's', 't', 'u', 'v', 'w', 'x', 'y', 'z']\n",
      "\n"
     ]
    }
   ],
   "source": [
    "from string import ascii_letters\n",
    "alphabet_list = list(ascii_letters)\n",
    "print(alphabet_list)\n",
    "print()\n",
    "\n",
    "# Make all the letters uppercase, and overriding the variable\n",
    "alphabet_list = [letters.upper() for letters in alphabet_list]\n",
    "print(alphabet_list)\n",
    "print()\n",
    "\n",
    "# Make all the letters int the variable lowercase, again\n",
    "alphabet_list = [letter.lower() for letter in alphabet_list]\n",
    "print(alphabet_list)\n",
    "print()"
   ]
  },
  {
   "cell_type": "markdown",
   "metadata": {},
   "source": [
    "## Example 7: Print numbers only from a given string\n",
    "\n",
    "Tech. Shills: *isdigit()* method: returns `True` if all characters in a string are digits. If not returns false."
   ]
  },
  {
   "cell_type": "code",
   "execution_count": 12,
   "metadata": {},
   "outputs": [
    {
     "name": "stdout",
     "output_type": "stream",
     "text": [
      "9 8 7 6 5 4 3 2 1 0\n"
     ]
    }
   ],
   "source": [
    "# User data entered as name and phone number\n",
    "user_data = \"Elvis Presley 987-654-3210\"\n",
    "phone_number = \" \".join([ x for x in user_data if x.isdigit()])\n",
    "print(phone_number)"
   ]
  },
  {
   "cell_type": "markdown",
   "metadata": {},
   "source": [
    "## Using functions in list comprehensions\n",
    "\n",
    "Not only can we write our own functions with list comprehensions, but we can also add filters to better controll the statements\n",
    "\n",
    "## Example 9, Adding arguements to list comprehension"
   ]
  },
  {
   "cell_type": "code",
   "execution_count": 16,
   "metadata": {},
   "outputs": [
    {
     "name": "stdout",
     "output_type": "stream",
     "text": [
      "[2, 4, 6, 8, 10, 12, 14, 16, 18]\n",
      "[4, 8, 12, 16]\n"
     ]
    }
   ],
   "source": [
    "# List comprehension with functions\n",
    "\n",
    "# Create a function that returns a number doubled\n",
    "def double(x) :\n",
    "    return x*2\n",
    "\n",
    "nums = [double(x) for x in range(1,10)]\n",
    "print(nums)\n",
    "\n",
    "# Add a filter so we only double even numbers\n",
    "nums =[double(x) for x in range(1,10) if x % 2 == 0]\n",
    "print(nums)"
   ]
  },
  {
   "cell_type": "markdown",
   "metadata": {},
   "source": [
    "## Example 10:Multiple arguements can be added to create more complex logic:"
   ]
  },
  {
   "cell_type": "code",
   "execution_count": 19,
   "metadata": {},
   "outputs": [
    {
     "name": "stdout",
     "output_type": "stream",
     "text": [
      "[11, 21, 31, 12, 22, 32, 13, 23, 33]\n",
      "[11, 21, 31, 12, 22, 32, 13, 23, 33]\n"
     ]
    }
   ],
   "source": [
    "nums = [x+y for x in [1,2,3] for y in [10,20,30]]\n",
    "print(nums)\n",
    "\n",
    "# Non-pythonic way\n",
    "nums2 = list()\n",
    "for x in range(1,4) :\n",
    "    for y in range(10,40,10) :\n",
    "        nums2.append(x+y)\n",
    "\n",
    "print(nums2)"
   ]
  },
  {
   "cell_type": "markdown",
   "metadata": {},
   "source": [
    "## Example 11: Enumeratig inside a list comprehension in python\n",
    "\n",
    "Using enumerate inside a list comprehension returns a list that contains tuples consisting of an index value and the corresponding element.\n",
    "\n",
    "For example, using enumerate inside a list comprehension using the list [\"a\", \"b\", \"c\"] returns [(0,\"a\"), (1,\"b\"), (2,\"c\")]\n",
    "\n",
    "Strategy: Inside the list brackets, call enumerate(list), and use a list comprehension loop over the returned index and element values. \n",
    "\n",
    "Catch the returned output and the returned index element form the loop into a tuple"
   ]
  },
  {
   "cell_type": "markdown",
   "metadata": {},
   "source": []
  },
  {
   "cell_type": "code",
   "execution_count": 27,
   "metadata": {},
   "outputs": [
    {
     "name": "stdout",
     "output_type": "stream",
     "text": [
      "[(4, 'a'), (5, 'b'), (6, 'c'), (7, 'd'), (8, 'e'), (9, 'f'), (10, 'g'), (11, 'h'), (12, 'i'), (13, 'j'), (14, 'k'), (15, 'l'), (16, 'm'), (17, 'n'), (18, 'o'), (19, 'p'), (20, 'q'), (21, 'r'), (22, 's'), (23, 't'), (24, 'u'), (25, 'v'), (26, 'w'), (27, 'x'), (28, 'y'), (29, 'z')]\n"
     ]
    }
   ],
   "source": [
    "alphabet_list = list(ascii_letters)\n",
    "\n",
    "enumerate_list = [(index, element) for (index, element) in enumerate(alphabet_list,4) if element.islower()]\n",
    "print(enumerate_list)"
   ]
  }
 ],
 "metadata": {
  "interpreter": {
   "hash": "219f28c729eda709583e1ab80762c396fbb24857f282d49252dc64048c611cb8"
  },
  "kernelspec": {
   "display_name": "Python 3.9.12 ('MOD')",
   "language": "python",
   "name": "python3"
  },
  "language_info": {
   "codemirror_mode": {
    "name": "ipython",
    "version": 3
   },
   "file_extension": ".py",
   "mimetype": "text/x-python",
   "name": "python",
   "nbconvert_exporter": "python",
   "pygments_lexer": "ipython3",
   "version": "3.9.12"
  },
  "orig_nbformat": 4
 },
 "nbformat": 4,
 "nbformat_minor": 2
}
