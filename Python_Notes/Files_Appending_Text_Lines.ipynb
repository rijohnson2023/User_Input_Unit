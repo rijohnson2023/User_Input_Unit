{
 "cells": [
  {
   "cell_type": "markdown",
   "metadata": {},
   "source": [
    "# Appending text or lines to a file in python\n",
    "\n",
    "To append some text to a file in the end, we need to open the file with the access mode, \"a\"\n",
    "\n",
    "**Notes on file access mode:**\n",
    "1. First, checks if the file exists or not\n",
    "    - If the file doesn't exist, it creates an empty file and opens it.\n",
    "2. If the file exists, it opens it\n",
    "3. In both cases, returns a file object, has a write cursor\n",
    "    - The write curser points to the end of the opened file\n",
    "    - Now you can write anything you want to the end of the file\n",
    "\n",
    "Appending text is pretty straight forward, but this notebook will demonstrate the appending a line approach"
   ]
  },
  {
   "cell_type": "code",
   "execution_count": 25,
   "metadata": {},
   "outputs": [
    {
     "name": "stdout",
     "output_type": "stream",
     "text": [
      "File at path is not empty:\n",
      "  /Users/Riley/Documents/Research/User_Input_Module/SampleDir/sample_file.txt\n"
     ]
    }
   ],
   "source": [
    "import os\n",
    "\n",
    "file_name = \"sample_file.txt\"\n",
    "file_path = \"/Users/Riley/Documents/Research/User_Input_Module/SampleDir/sample_file.txt\"\n",
    "\n",
    "def check_file_empty(file_path) :\n",
    "    # Check if size of file is 0\n",
    "    if os.stat(file_path).st_size == 0 :\n",
    "        print('File is empty')\n",
    "        return True\n",
    "    else: \n",
    "        print(\"File at path is not empty:\\n  %s\" % file_path)\n",
    "        return False\n",
    "\n",
    "with open(file_path,\"a\") as file :\n",
    "    # Check size of file\n",
    "    check_file_empty(file_path)\n"
   ]
  },
  {
   "cell_type": "code",
   "execution_count": 26,
   "metadata": {},
   "outputs": [
    {
     "name": "stdout",
     "output_type": "stream",
     "text": [
      "Destination Path:\n",
      "  /Users/Riley/Documents/Research/User_Input_Module/SampleDir\n",
      "File exists at path:\n",
      "  /Users/Riley/Documents/Research/User_Input_Module/SampleDir/sample_file.txt\n",
      "File at path is not empty:\n",
      "  /Users/Riley/Documents/Research/User_Input_Module/SampleDir/sample_file.txt\n",
      "Now we have a sample file.\n",
      "With some sample contents.\n",
      "In a sample directory.\n",
      "What fun. . .\n",
      "AND NOW! we've appended some more fun . . .\n",
      "Even more\n",
      "Even more\n",
      "File filled at path:\n",
      "  /Users/Riley/Documents/Research/User_Input_Module/SampleDir/sample_file.txt\n",
      "File at path is not empty:\n",
      "  /Users/Riley/Documents/Research/User_Input_Module/SampleDir/sample_file.txt\n",
      "Now we have a sample file.\n",
      "With some sample contents.\n",
      "In a sample directory.\n",
      "What fun. . .\n"
     ]
    }
   ],
   "source": [
    "def fill_sample_file(file_path):\n",
    "    with open(file_path, \"w\") as file :\n",
    "        file.write(\"Now we have a sample file.\\nWith some sample contents.\\nIn a sample directory.\\nWhat fun. . . \")\n",
    "    print(\"File filled at path:\\n  %s\" % file_path)\n",
    "\n",
    "def print_file_contents(file_path): \n",
    "    with open(file_path, \"r\") as file:\n",
    "        # Check that file is not empty\n",
    "        if check_file_empty(file_path) :\n",
    "            pass\n",
    "        else:\n",
    "            line = file.readline()\n",
    "            while line :\n",
    "                print(line.strip())\n",
    "                line = file.readline()\n",
    "\n",
    "def create_sample_file(file_name) :\n",
    "    # Create a file in the SampleDirectory\n",
    "    file_path = dir_path + \"/\" + file_name\n",
    "\n",
    "    # If the file doen't exist in the sample directory, then create it\n",
    "    if not os.path.isfile(file_path) :\n",
    "        with open(file_path, \"w\") as file :\n",
    "            file.write(\"Now we have a sample file.\\nWith some sample contents.\\nIn a sample directory.\\nWhat fun. . . \")\n",
    "        print(\"File created at path:\\n  %s\" % file_path)\n",
    "    else :\n",
    "        print(\"File exists at path:\\n  %s\" % file_path)\n",
    "    return file_name, file_path\n",
    "\n",
    "def create_sample_dir(dir_name) :\n",
    "    # Locate current working directory\n",
    "    cwd_list = os.getcwd().split(\"/\")\n",
    "\n",
    "    # Remove \"Python notes\" from the cwd_list\n",
    "    wd1 = cwd_list[:len(cwd_list)-1]\n",
    "\n",
    "    # Create directory path\n",
    "    dir_path = \"/\".join(wd1) + \"/\" + dir_name\n",
    "\n",
    "    # if directory doesn't exist, create directory\n",
    "    if not os.path.isdir(dir_path):\n",
    "        os.mkdir(dir_path)\n",
    "        print(\"Destination Path Created:\\n  %s\" % dir_path)\n",
    "    else:\n",
    "        print(\"Destination Path:\\n  %s\" % dir_path)\n",
    "    return dir_path\n",
    "\n",
    "dir_path = create_sample_dir(dir_name=\"SampleDir\")\n",
    "file_name, file_path = create_sample_file(file_name = \"sample_file.txt\")\n",
    "print_file_contents(file_path)\n",
    "fill_sample_file(file_path)\n",
    "print_file_contents(file_path)"
   ]
  },
  {
   "cell_type": "code",
   "execution_count": 27,
   "metadata": {},
   "outputs": [
    {
     "name": "stdout",
     "output_type": "stream",
     "text": [
      "File at path is not empty:\n",
      "  /Users/Riley/Documents/Research/User_Input_Module/SampleDir/sample_file.txt\n",
      "Now we have a sample file.\n",
      "With some sample contents.\n",
      "In a sample directory.\n",
      "What fun. . .\n",
      "AND NOW! we've appended some more fun . . .\n"
     ]
    }
   ],
   "source": [
    "# So, we have a sample file and its full of sample contents, We want to append newLine\n",
    "\n",
    "newLine= \"AND NOW! we've appended some more fun . . .\"\n",
    "\n",
    "with open(file_path,\"a\") as file:\n",
    "    file.write(\"\\n\")\n",
    "    file.write(newLine)\n",
    "\n",
    "print_file_contents(file_path)\n"
   ]
  },
  {
   "cell_type": "markdown",
   "metadata": {},
   "source": [
    "# Appending multiple lines to a file\n",
    "\n",
    "> We could call a function `append_new_line` multiple times, but that isn't optimal because we would be opening and closing the file multiple times.\n",
    "> We want to only open the file once and append lines to it"
   ]
  },
  {
   "cell_type": "code",
   "execution_count": 28,
   "metadata": {},
   "outputs": [
    {
     "name": "stdout",
     "output_type": "stream",
     "text": [
      "File at path is not empty:\n",
      "  /Users/Riley/Documents/Research/User_Input_Module/SampleDir/sample_file.txt\n",
      "Now we have a sample file.\n",
      "With some sample contents.\n",
      "In a sample directory.\n",
      "What fun. . .\n",
      "AND NOW! we've appended some more fun . . .\n",
      "Even more\n"
     ]
    }
   ],
   "source": [
    "newLines = [\"Even more\", \"More than that\", \"The most appended fun!\"]\n",
    "\n",
    "# Append_new_line example\n",
    "def append_new_line(file_path, text_to_append):\n",
    "    # Open the file in append & read mode ('a+')\n",
    "    with open(file_path,\"a+\") as file:\n",
    "        # Move curser to the start of the file\n",
    "        file.seek(0)\n",
    "        # If file is not empty, append '\\n'\n",
    "        data = file.read(100)\n",
    "        if len(data) > 0 :\n",
    "            file.write(\"\\n\")\n",
    "        # Append text at end of file\n",
    "        file.write(text_to_append)\n",
    "\n",
    "append_new_line(file_path,newLines[0])\n",
    "print_file_contents(file_path)"
   ]
  },
  {
   "cell_type": "markdown",
   "metadata": {},
   "source": [
    "# File access mode 'a+'\n",
    "\n",
    "> Opens the file for both reading and writing\n",
    "> If a file doesn't exist, it creates the file too\n",
    "> Initially, both the read and write cursors will point at the end of the file\n",
    "> The read cursor was moved to the top of the file using seek()\n",
    ">   - THis was also an attempt to check if the file was empty or not\n",
    "\n",
    "#### Algorithm for appending multiple lines\n",
    "\n",
    "        Open the file in 'a+' mode using with block\n",
    "        Move cursor to the start of the file\n",
    "        Read some text to see if empty or not\n",
    "        If not empty, appendEOL = True else: False\n",
    "        For each element in the list\n",
    "            If first item in list and appendEOL is false:\n",
    "                don't append \"\\n\", just the line\n",
    "            else:\n",
    "                append \"\\n\" and line"
   ]
  },
  {
   "cell_type": "code",
   "execution_count": 29,
   "metadata": {},
   "outputs": [
    {
     "name": "stdout",
     "output_type": "stream",
     "text": [
      "File at path is not empty:\n",
      "  /Users/Riley/Documents/Research/User_Input_Module/SampleDir/sample_file.txt\n",
      "Now we have a sample file.\n",
      "With some sample contents.\n",
      "In a sample directory.\n",
      "What fun. . .\n",
      "AND NOW! we've appended some more fun . . .\n",
      "Even more\n",
      "Even more\n",
      "More than that\n",
      "The most appended fun!\n"
     ]
    }
   ],
   "source": [
    "def append_multiple_lines(file_path,lines_iterable):\n",
    "    with open(file_path,\"a+\") as file :\n",
    "        # move read curser to the start of the file\n",
    "        file.seek(0)\n",
    "        data = file.read(100) # Reading the first 100 lines\n",
    "        # Checking to see if file has contents\n",
    "        if len(data) > 0:\n",
    "            appendEOL = True\n",
    "        else:\n",
    "            appendEOL = False\n",
    "        # Writing new contents to file\n",
    "        for index, line in enumerate(lines_iterable) :\n",
    "            if index == 0 and appendEOL is False:\n",
    "                file.write(line)\n",
    "            else:\n",
    "                file.write('\\n' + line)\n",
    "\n",
    "append_multiple_lines(file_path, newLines)\n",
    "print_file_contents(file_path)"
   ]
  }
 ],
 "metadata": {
  "interpreter": {
   "hash": "219f28c729eda709583e1ab80762c396fbb24857f282d49252dc64048c611cb8"
  },
  "kernelspec": {
   "display_name": "Python 3.9.12 ('MOD')",
   "language": "python",
   "name": "python3"
  },
  "language_info": {
   "codemirror_mode": {
    "name": "ipython",
    "version": 3
   },
   "file_extension": ".py",
   "mimetype": "text/x-python",
   "name": "python",
   "nbconvert_exporter": "python",
   "pygments_lexer": "ipython3",
   "version": "3.9.12"
  },
  "orig_nbformat": 4
 },
 "nbformat": 4,
 "nbformat_minor": 2
}
