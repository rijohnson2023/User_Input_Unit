{
 "cells": [
  {
   "cell_type": "markdown",
   "metadata": {},
   "source": [
    "# Find the Nth Largest Elem in a list\n",
    "\n",
    "Examples:\n",
    "\n",
    "    Input: [4, 1, 7, 3, 14, 9, 6] n=2\n",
    "    Output: [14, 9]\n",
    "\n",
    "    Input: [8, 10, 3, 11, 19, 17] n=3\n",
    "    Output: [19, 17, 11]\n",
    "\n",
    "Two Approaches:\n",
    "1. Traversing the list\n",
    "2. Sorting the list and printing N max elements\n",
    "3. leetcode way"
   ]
  },
  {
   "cell_type": "code",
   "execution_count": 2,
   "metadata": {},
   "outputs": [],
   "source": [
    "# Quick Select\n",
    "\n",
    "import random\n",
    "\n",
    "def findKthLargest(nums: list[int], k: int) -> int:\n",
    "    # choosing a random number in the origional array to begin sorting the data into 3 arrays\n",
    "    pivot = random.choice(nums)\n",
    "    # Left right and mid are all arrays\n",
    "    left = [x for x in nums if x > pivot]\n",
    "    mid = [x for x in nums if x == pivot]\n",
    "    right = [x for x in nums if x < pivot]\n",
    "\n",
    "    # Counting the number of elements in the left and mid array\n",
    "    L,M = len(left), len(mid)\n",
    "\n",
    "    if k <= L:   # if k, the kth largest int, is less than the length of the left array, then we know it is in the left array \n",
    "        return findKthLargest(left,k)\n",
    "    elif k > (L+M): # if k, the kth largest int is greater than the length of the left and middle array, then it must be in the right array\n",
    "        return findKthLargest(right, k-(L+M))\n",
    "    else: # if K is not in the left or right array, then it is the pivot number\n",
    "        return mid[0]\n",
    "\n",
    "# I want the 8th largest element in an array\n",
    "# The general expression is I want the kth largest element in an array\n"
   ]
  },
  {
   "cell_type": "code",
   "execution_count": 3,
   "metadata": {},
   "outputs": [],
   "source": [
    "# I want the fourth the element with the 4th largest value in the array\n",
    "\n",
    "word_dict = {\n",
    "    'this': 11,\n",
    "    'at': 9,\n",
    "    'here': 5,\n",
    "    'why': 12,\n",
    "    'is': 2,\n",
    "}"
   ]
  },
  {
   "cell_type": "markdown",
   "metadata": {},
   "source": [
    "### Iteration 1\n",
    "\n",
    "> Have a list of the values, [11, 9, 5, 12, 2]\n",
    "> Pick a random pivot number from the array: 12\n",
    "> \n",
    "> Left array = [left array *for* elem *in* arg array *if* elem *>* pivot number] = []\n",
    "> mid array = [mid array *for* elem *in* arg array *if* elem *==* pivot number] = [12]\n",
    "> Right array = [Right array *for* elem *in* arg array *if* elem *<* pivot number] = [11,9,5,2]\n",
    "> \n",
    "> Length of the left and middle array = 0,1\n",
    "> if the 12th largest number, the pivot number, is less than or equal to the length of the the left array\n",
    ">   it is in the left array\n",
    "> if the 12th largest number, the pivot number, is greater than the sum of the length of the left and middle array\n",
    ">   then it is in the right array\n",
    "> if the 12th largest number is not in the left or right array\n",
    ">   it must be in the middle array, which only has one number, so it is the number in the middle array\n",
    "\n",
    "**Note:** The middle array will always have a length of 1"
   ]
  }
 ],
 "metadata": {
  "interpreter": {
   "hash": "219f28c729eda709583e1ab80762c396fbb24857f282d49252dc64048c611cb8"
  },
  "kernelspec": {
   "display_name": "Python 3.9.12 ('MOD')",
   "language": "python",
   "name": "python3"
  },
  "language_info": {
   "codemirror_mode": {
    "name": "ipython",
    "version": 3
   },
   "file_extension": ".py",
   "mimetype": "text/x-python",
   "name": "python",
   "nbconvert_exporter": "python",
   "pygments_lexer": "ipython3",
   "version": "3.9.12"
  },
  "orig_nbformat": 4
 },
 "nbformat": 4,
 "nbformat_minor": 2
}
