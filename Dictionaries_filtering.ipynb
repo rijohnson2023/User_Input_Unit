{
 "cells": [
  {
   "cell_type": "markdown",
   "metadata": {},
   "source": [
    "# Filtering a dictionary by conditions by creating a generic function\n",
    "\n",
    "link: https://thispointer.com/python-filter-a-dictionary-by-conditions-on-keys-or-values/\n",
    "\n",
    "## Filtering a Dictionary by keys in Python\n",
    "\n",
    "- Only want to keep elements whose keys are even\n",
    "- Need to iterate over all items of a dictionary\n",
    "- Add elements with an even key to another dictionary"
   ]
  },
  {
   "cell_type": "code",
   "execution_count": 25,
   "metadata": {},
   "outputs": [],
   "source": [
    "dictOfNames = {\n",
    "   7 : 'sam',\n",
    "   8: 'john',\n",
    "   9: 'mathew',\n",
    "   10: 'riti',\n",
    "   11 : 'aadi',\n",
    "   12 : 'sachin'\n",
    "}"
   ]
  },
  {
   "cell_type": "code",
   "execution_count": 26,
   "metadata": {},
   "outputs": [
    {
     "name": "stdout",
     "output_type": "stream",
     "text": [
      "Filtered Dictionary :  {8: 'john', 10: 'riti', 12: 'sachin'}\n"
     ]
    }
   ],
   "source": [
    "newDict = dict()\n",
    "# Iterate over all the items in dictionary and filter items which have even keys\n",
    "for (key, value) in dictOfNames.items() :\n",
    "    # Check if key is even and then add pair to new dictionary\n",
    "    if key % 2 == 0 :\n",
    "        newDict[key] = value\n",
    "\n",
    "print('Filtered Dictionary : ', newDict)"
   ]
  },
  {
   "cell_type": "markdown",
   "metadata": {},
   "source": [
    "### Let's say the data is reversed, the key is the name, the int is the value\n",
    "\n",
    "- Only want to keep elements whose values are even\n",
    "- Need to iterate over all items of a dictionary\n",
    "- Add elements with an even value to another dictionary"
   ]
  },
  {
   "cell_type": "code",
   "execution_count": 27,
   "metadata": {},
   "outputs": [
    {
     "name": "stdout",
     "output_type": "stream",
     "text": [
      "New Dictionary :  {'sam': 7, 'john': 8, 'mathew': 9, 'riti': 10, 'aadi': 11, 'sachin': 12}\n"
     ]
    }
   ],
   "source": [
    "newDict = dict()\n",
    "# Iterate over all the items in dictionary and swap key with value\n",
    "for (key, value) in dictOfNames.items() :\n",
    "        newDict[value] = key\n",
    "\n",
    "print('New Dictionary : ', newDict)"
   ]
  },
  {
   "cell_type": "code",
   "execution_count": 28,
   "metadata": {},
   "outputs": [
    {
     "name": "stdout",
     "output_type": "stream",
     "text": [
      "Filtered Dictionary :  {'john': 8, 'riti': 10, 'sachin': 12}\n"
     ]
    }
   ],
   "source": [
    "dictOfNames2 = {\n",
    "    'sam': 7,\n",
    "    'john': 8,\n",
    "    'mathew': 9,\n",
    "    'riti': 10,\n",
    "    'aadi': 11,\n",
    "    'sachin': 12\n",
    "    }\n",
    "\n",
    "newDict = dict()\n",
    "# Iterate over all the items in the dictionary and create a new dictionary whose elements have only even values\n",
    "for (key, value) in dictOfNames2.items() :\n",
    "    if value % 2 == 0 :\n",
    "        newDict[key] = value\n",
    "\n",
    "print('Filtered Dictionary : ', newDict)"
   ]
  },
  {
   "cell_type": "markdown",
   "metadata": {},
   "source": [
    "- Similiarly, we can have conditional filtering based on value field instead of key\n",
    "- But instead of writing code for iteration and condition checking again and again, we move the code to a generic function \n",
    "- Then we pass condition from outside the function"
   ]
  },
  {
   "cell_type": "code",
   "execution_count": 29,
   "metadata": {},
   "outputs": [],
   "source": [
    "\"\"\"\n",
    "Iterate over all the key value pairs in a dictionary\n",
    "Call the given callback function() on each pair\n",
    "Items for which callback() returns True, add to dictionary\n",
    "Return the new dictionary\n",
    "\"\"\"\n",
    "def filterTheDict(dictObj, callback) :\n",
    "    newDict = dict()\n",
    "    # Iterate over all the items in dictionary\n",
    "    for (key, value) in dictObj.items() :\n",
    "        # Check if item satisfies the given condition then add to newDict\n",
    "        if callback((key, value)) :\n",
    "            newDict[key] = value\n",
    "    return newDict"
   ]
  },
  {
   "cell_type": "markdown",
   "metadata": {},
   "source": [
    "This function accepts...\n",
    "- A Dictionary\n",
    "- A function that accepts a key/value pair and returns True or False\n",
    "\n",
    "The function can...\n",
    "1. Iterate over all key value pairs in a dictionary\n",
    "2. Call the given callback function() on each pair\n",
    "3. Pairs for which callback() returns True are added to the new dictionary\n",
    "4. Returns the new dictionary"
   ]
  },
  {
   "cell_type": "code",
   "execution_count": 30,
   "metadata": {},
   "outputs": [
    {
     "name": "stdout",
     "output_type": "stream",
     "text": [
      "Filtered Dictionary :  {8: 'john', 10: 'riti', 12: 'sachin'}\n"
     ]
    }
   ],
   "source": [
    "# Filter a dictionary to keep elements only whose keys are even\n",
    "newDict = filterTheDict(dictOfNames, lambda elem: elem[0] % 2 == 0)\n",
    "\n",
    "print('Filtered Dictionary : ', newDict)"
   ]
  },
  {
   "cell_type": "markdown",
   "metadata": {},
   "source": [
    "### How it works\n",
    "\n",
    "- We passed the lambda function as a condition while filtering the contents inside our function, filterTheDict()\n",
    "- The filterTheDict() function returned a new dictionary which contained elements with even keys only\n",
    "\n",
    "Let's use the same filterTheDict() function created above to filter the dictionary\n",
    "- We want to keep the elements only in the dictionary whose value field contains a string of length 6\n",
    "- To do so, we are going to use the lambda function again"
   ]
  },
  {
   "cell_type": "code",
   "execution_count": 31,
   "metadata": {},
   "outputs": [
    {
     "name": "stdout",
     "output_type": "stream",
     "text": [
      "Filtered Dictionary :  {9: 'mathew', 12: 'sachin'}\n"
     ]
    }
   ],
   "source": [
    "# Filter a dictionary to keep elements only whose values are string of length 6\n",
    "newDict = filterTheDict(dictOfNames, lambda elem: len(elem[1]) == 6)\n",
    "print('Filtered Dictionary : ', newDict)"
   ]
  },
  {
   "cell_type": "markdown",
   "metadata": {},
   "source": [
    "# Filter a dictionary by filter()\n",
    "\n",
    "## Python's filter function() \n",
    "\n",
    "### Accepts\n",
    "\n",
    "- iterable sequence to be filtered\n",
    "- a function that accepts an argument and returns a bool, True or False\n",
    "\n",
    "### Returns\n",
    "\n",
    "- new sequence of filtered contents\n",
    "\n",
    "**Note:** We will need to convert the returned sequence to a dict again."
   ]
  },
  {
   "cell_type": "code",
   "execution_count": 32,
   "metadata": {},
   "outputs": [],
   "source": [
    "dictOfNames = {\n",
    "   7 : 'sam',\n",
    "   8: 'john',\n",
    "   9: 'mathew',\n",
    "   10: 'riti',\n",
    "   11 : 'aadi',\n",
    "   12 : 'sachin'\n",
    "}"
   ]
  },
  {
   "cell_type": "code",
   "execution_count": 33,
   "metadata": {},
   "outputs": [
    {
     "name": "stdout",
     "output_type": "stream",
     "text": [
      "Filtered Dictionary :  {8: 'john', 10: 'riti', 12: 'sachin'}\n"
     ]
    }
   ],
   "source": [
    "# Filter items in a dictionary whose keys are even\n",
    "newDict = dict(filter(lambda elem: elem[0] % 2 == 0, dictOfNames.items()))\n",
    "print('Filtered Dictionary : ', newDict)"
   ]
  },
  {
   "cell_type": "code",
   "execution_count": 34,
   "metadata": {},
   "outputs": [
    {
     "name": "stdout",
     "output_type": "stream",
     "text": [
      "Filtered Dictionary :  {9: 'mathew', 12: 'sachin'}\n"
     ]
    }
   ],
   "source": [
    "# Filter items in a dictionary whose values are strings of length 6\n",
    "newDict = dict(filter(lambda elem: len(elem[1]) == 6, dictOfNames.items()))\n",
    "print('Filtered Dictionary : ', newDict)"
   ]
  },
  {
   "cell_type": "markdown",
   "metadata": {},
   "source": [
    "# Dict Comprehension HA!\n",
    "\n",
    "Let's filter items in a dictionary whos keys are even using dict comprehension"
   ]
  },
  {
   "cell_type": "code",
   "execution_count": 35,
   "metadata": {},
   "outputs": [
    {
     "name": "stdout",
     "output_type": "stream",
     "text": [
      "Filtered Dictionary :  {8: 'john', 10: 'riti', 12: 'sachin'}\n"
     ]
    }
   ],
   "source": [
    "# Filter dictionary by keeping elements whose keys are divisible by 2\n",
    "newDict = {key:value for (key,value) in dictOfNames.items() if key % 2 == 0}\n",
    "print(\"Filtered Dictionary : \", newDict)"
   ]
  },
  {
   "cell_type": "code",
   "execution_count": 36,
   "metadata": {},
   "outputs": [
    {
     "name": "stdout",
     "output_type": "stream",
     "text": [
      "Filtered Dictionary :  {9: 'mathew', 12: 'sachin'}\n"
     ]
    }
   ],
   "source": [
    "# Filter items in a dictionary by keeping elements whos values are strings of length 6\n",
    "newDict = {key:value for (key,value) in dictOfNames.items() if len(value) == 6}\n",
    "print(\"Filtered Dictionary : \", newDict)"
   ]
  },
  {
   "cell_type": "code",
   "execution_count": 37,
   "metadata": {},
   "outputs": [
    {
     "name": "stdout",
     "output_type": "stream",
     "text": [
      "dict_items([('sam', 7), ('john', 8), ('mathew', 9), ('riti', 10), ('aadi', 11), ('sachin', 12)])\n"
     ]
    }
   ],
   "source": [
    "print((dictOfNames2.items()).__repr__())"
   ]
  },
  {
   "cell_type": "code",
   "execution_count": 38,
   "metadata": {},
   "outputs": [
    {
     "data": {
      "text/plain": [
       "'\\nSort Dict by value\\nFind the value of the 8th elem\\nFilter a newdict with the value of the 8th elem\\nreturn newdict\\n\\n\\nFilter Dict by value\\nGrab 8 elem\\ndict it\\n'"
      ]
     },
     "execution_count": 38,
     "metadata": {},
     "output_type": "execute_result"
    }
   ],
   "source": [
    "# Filter a dictionary by keeping elements whose values are greater than the value of the 8th element\n",
    "\"\"\"\n",
    "Sort Dict by value\n",
    "Find the value of the 8th elem\n",
    "Filter a newdict with the value of the 8th elem\n",
    "return newdict\n",
    "\n",
    "\n",
    "Filter Dict by value\n",
    "Grab 8 elem\n",
    "dict it\n",
    "\"\"\""
   ]
  }
 ],
 "metadata": {
  "interpreter": {
   "hash": "219f28c729eda709583e1ab80762c396fbb24857f282d49252dc64048c611cb8"
  },
  "kernelspec": {
   "display_name": "Python 3.9.12 ('MOD')",
   "language": "python",
   "name": "python3"
  },
  "language_info": {
   "codemirror_mode": {
    "name": "ipython",
    "version": 3
   },
   "file_extension": ".py",
   "mimetype": "text/x-python",
   "name": "python",
   "nbconvert_exporter": "python",
   "pygments_lexer": "ipython3",
   "version": "3.9.12"
  },
  "orig_nbformat": 4
 },
 "nbformat": 4,
 "nbformat_minor": 2
}
