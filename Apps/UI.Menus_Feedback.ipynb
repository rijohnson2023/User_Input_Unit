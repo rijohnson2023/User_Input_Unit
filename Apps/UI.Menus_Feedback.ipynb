{
 "cells": [
  {
   "cell_type": "markdown",
   "metadata": {},
   "source": [
    "# Ideas while using UI.Menus.py\n",
    "\n",
    "- is there a way to select a keyword then edit it?\n",
    "  - Style 1: select the keyword (like you would now), then hit --Edit input, select input, print to user then curser starts at end\n",
    "- When bad input is given to the program, it is completely ignored\n",
    "  - Might be useful to put a red prompt, Invalid input ignored\n",
    "    - Because not all our users are not tech savy, and they might be worried that their faulty input will mess up the files\n",
    "    - If we add this small detail, it would make this program more accessible to first-time Research Assistants\n",
    "- When updating the data stored locally related to the keywords, those functions could be called at the end of the User Input Module\n",
    "  - We might want to think about what types of data we are keeping tract of\n",
    "    - The mostFreq or mostPop data: These data arrays keep track of the keyword used (key) and the times that the user chooses to use the keywrod\n",
    "      - The integer is a count of how many times the user ran the modifier program through and assigned that keyword to a batch of files\n",
    "      - Another type of count could be counting how many files were edited with that keyword. This could be a cool statistic to show how many \"events\" where syntax errors were possible were avoided \n",
    "      1. `G16_Data_Name = {str:[int,int]}`\n",
    "      2. `# Str is the keyword`\n",
    "      3. `# first int is count of how many times user ran modifier program through and assigned that keyword`\n",
    "      4. `# second int is type of files that were edited with that keyword` \n",
    "      - Example:\n",
    "      - `G16_Data_Name = {keyword1 : [4,108]}`\n",
    "- We need the data related to the atoms that are specified by the basis name"
   ]
  },
  {
   "cell_type": "markdown",
   "metadata": {},
   "source": [
    "# Notes while using UI.Menus.py\n",
    "\n",
    "- How it prints in the header is perfect for Link0 keywords, they are all separated by \"\\n\" character\n",
    "- For the Route Section Commands, if possible, we should print differently\n",
    "  - It would add to the *#* line\n",
    "- If ever referencing an old check or another file, and the file is an instance of the batch of files you are editing. Use `__filename__` in the keyword setup\n",
    "- Need to verify all basis names\n",
    "- Need to verify all atoms under basis names"
   ]
  },
  {
   "cell_type": "markdown",
   "metadata": {},
   "source": [
    "\n",
    "# Questions while using UI.Menus.py\n",
    "1. When selections are removed, are they being replaced?\n",
    "   1. If they are, then is mostPop data replacing mostPop data, and mostRec data replacing mostRec data?\n",
    "      1. Might be overwhelming if we keep replacing data. Would be good to just let it disappear\n",
    "2. How will this integrate when a basis set can be specified by the Route section in the header and is not needed as a basis set object.\n",
    "   1. There should be no request created\n",
    "   2. There should be no basis se object requested\n",
    "   3. **Note:** if the basis name appears in the Route section, G16 will assume that all atoms not specified by Basis Set Objects will be put under it.\n",
    "   4. This is essential for using the program without internet.\n",
    "      - The solution could be to download all of the basis sets to the computer before going off the internet and then you can run the program using what is in your basis set library\n",
    "        - If we do this, we would need a function to eliminate or add basis sets directly.\n",
    " - When and how are we updating the keyword data stored locally on the computer? This might intuitively come at the end of the User Input Section, rather than when the Modifier program terminates."
   ]
  },
  {
   "cell_type": "markdown",
   "metadata": {},
   "source": [
    "# Errors while using UI.Menus.py\n",
    "- When I add something to the header, then remove it, it is not added back to the list of options to choose from.\n",
    "  - I think it is being replaced with the next element in the list\n",
    "  1. Start the program\n",
    "  2. Select first choice\n",
    "     1. First choice is added to Header Section\n",
    "     2. First choice is removed from Menu Option Section\n",
    "     3. Menu Option section is updated and includes next keyword from the mostRec or mostPop data set? Depends on what type of data was used?\n",
    "     4. Page refreshed\n",
    "  3. Remove first choice from header\n",
    "     - Not added back to the menu options\n",
    "     - Should be back to origional Menu, but am now at a new menu with the same number of choices, but different choices\n",
    "- When I added a basis set, then removed it, it would not let me add it again.\n",
    "  1. Add Basis Name: 6-31G\n",
    "  2. Add Atoms 1, 2, 3, 4\n",
    "\n",
    "- When I added an atom to a basis set, removed it, then tried to add it to a different basis set, I got an error that its already been added to another basis set\n",
    "- When I added a set of the basis atoms to a basis name, 2 were erroneous, it put up the error.\n",
    "  - At that point it should've saved all the good inputs so I didn't have to type them out again\n",
    "  - It wiped all the input, good and bad and started over\n",
    "- \n"
   ]
  }
 ],
 "metadata": {
  "language_info": {
   "name": "python"
  },
  "orig_nbformat": 4
 },
 "nbformat": 4,
 "nbformat_minor": 2
}
